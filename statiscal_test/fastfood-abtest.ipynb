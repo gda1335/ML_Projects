{
 "cells": [
  {
   "cell_type": "markdown",
   "id": "e1d55860",
   "metadata": {
    "papermill": {
     "duration": 0.008008,
     "end_time": "2023-12-28T13:23:15.778653",
     "exception": false,
     "start_time": "2023-12-28T13:23:15.770645",
     "status": "completed"
    },
    "tags": []
   },
   "source": [
    "\n",
    "\n",
    "<code style=\"background:red;color:white\">Fast Food Marketing Campaign AB Test.</code>\n",
    "\n",
    "# About Dataset\n",
    "\n",
    "**Scenario**\n",
    "\n",
    "* A fast-food chain plans to add a new item to its menu. However, they are still undecided between three possible marketing campaigns for promoting the new product. In order to determine which promotion has the greatest effect on sales, the new item is introduced at locations in several randomly selected markets. A different promotion is used at each location, and the weekly sales of the new item are recorded for the first four weeks.\n",
    "\n",
    "**Goal**\n",
    "\n",
    "* Evaluate A/B testing results and decide which marketing strategy works the best.\n",
    "\n",
    "**Columns**\n",
    "* MarketID: unique identifier for market\n",
    "* MarketSize: size of market area by sales\n",
    "* LocationID: unique identifier for store location\n",
    "* AgeOfStore: age of store in years\n",
    "* Promotion: one of three promotions that were tested\n",
    "* week: one of four weeks when the promotions were run\n",
    "* SalesInThousands: sales amount for a specific LocationID, Promotion, and week"
   ]
  },
  {
   "cell_type": "code",
   "execution_count": 1,
   "id": "7a8548f6",
   "metadata": {
    "execution": {
     "iopub.execute_input": "2023-12-28T13:23:15.797096Z",
     "iopub.status.busy": "2023-12-28T13:23:15.796593Z",
     "iopub.status.idle": "2023-12-28T13:23:30.117988Z",
     "shell.execute_reply": "2023-12-28T13:23:30.116296Z"
    },
    "papermill": {
     "duration": 14.334029,
     "end_time": "2023-12-28T13:23:30.120768",
     "exception": false,
     "start_time": "2023-12-28T13:23:15.786739",
     "status": "completed"
    },
    "tags": []
   },
   "outputs": [
    {
     "name": "stdout",
     "output_type": "stream",
     "text": [
      "Requirement already satisfied: statsmodels in /opt/conda/lib/python3.10/site-packages (0.14.0)\r\n",
      "Requirement already satisfied: numpy>=1.18 in /opt/conda/lib/python3.10/site-packages (from statsmodels) (1.24.3)\r\n",
      "Requirement already satisfied: scipy!=1.9.2,>=1.4 in /opt/conda/lib/python3.10/site-packages (from statsmodels) (1.11.3)\r\n",
      "Requirement already satisfied: pandas>=1.0 in /opt/conda/lib/python3.10/site-packages (from statsmodels) (2.0.3)\r\n",
      "Requirement already satisfied: patsy>=0.5.2 in /opt/conda/lib/python3.10/site-packages (from statsmodels) (0.5.3)\r\n",
      "Requirement already satisfied: packaging>=21.3 in /opt/conda/lib/python3.10/site-packages (from statsmodels) (21.3)\r\n",
      "Requirement already satisfied: pyparsing!=3.0.5,>=2.0.2 in /opt/conda/lib/python3.10/site-packages (from packaging>=21.3->statsmodels) (3.0.9)\r\n",
      "Requirement already satisfied: python-dateutil>=2.8.2 in /opt/conda/lib/python3.10/site-packages (from pandas>=1.0->statsmodels) (2.8.2)\r\n",
      "Requirement already satisfied: pytz>=2020.1 in /opt/conda/lib/python3.10/site-packages (from pandas>=1.0->statsmodels) (2023.3)\r\n",
      "Requirement already satisfied: tzdata>=2022.1 in /opt/conda/lib/python3.10/site-packages (from pandas>=1.0->statsmodels) (2023.3)\r\n",
      "Requirement already satisfied: six in /opt/conda/lib/python3.10/site-packages (from patsy>=0.5.2->statsmodels) (1.16.0)\r\n"
     ]
    }
   ],
   "source": [
    "\n",
    "import itertools\n",
    "import numpy as np\n",
    "import pandas as pd\n",
    "import matplotlib.pyplot as plt\n",
    "import seaborn as sns\n",
    "!pip install statsmodels\n",
    "import statsmodels.stats.api as sms\n",
    "from scipy.stats import ttest_1samp, shapiro, levene, ttest_ind, mannwhitneyu, \\\n",
    "    pearsonr, spearmanr, kendalltau, f_oneway, kruskal\n",
    "from statsmodels.stats.proportion import proportions_ztest\n",
    "\n",
    "pd.set_option('display.max_columns', None)\n",
    "pd.set_option('display.max_rows', 10)\n",
    "pd.set_option('display.float_format', lambda x: '%.5f' % x)\n",
    "\n",
    "\n",
    "\n",
    "adrr=\"/kaggle/input/fast-food-marketing-campaign-ab-test/WA_Marketing-Campaign.csv\"\n",
    "\n",
    "data=pd.read_csv(adrr)\n"
   ]
  },
  {
   "cell_type": "code",
   "execution_count": 2,
   "id": "240e731e",
   "metadata": {
    "execution": {
     "iopub.execute_input": "2023-12-28T13:23:30.137832Z",
     "iopub.status.busy": "2023-12-28T13:23:30.136736Z",
     "iopub.status.idle": "2023-12-28T13:23:30.142532Z",
     "shell.execute_reply": "2023-12-28T13:23:30.141224Z"
    },
    "papermill": {
     "duration": 0.016083,
     "end_time": "2023-12-28T13:23:30.144422",
     "exception": false,
     "start_time": "2023-12-28T13:23:30.128339",
     "status": "completed"
    },
    "tags": []
   },
   "outputs": [],
   "source": [
    "import warnings\n",
    "warnings.filterwarnings(\"ignore\")\n",
    "#Ignore specific warnings by category\n",
    "warnings.filterwarnings(\"ignore\", category=FutureWarning)\n"
   ]
  },
  {
   "cell_type": "code",
   "execution_count": 3,
   "id": "6becf5ae",
   "metadata": {
    "execution": {
     "iopub.execute_input": "2023-12-28T13:23:30.160446Z",
     "iopub.status.busy": "2023-12-28T13:23:30.160076Z",
     "iopub.status.idle": "2023-12-28T13:23:30.166385Z",
     "shell.execute_reply": "2023-12-28T13:23:30.164613Z"
    },
    "papermill": {
     "duration": 0.017694,
     "end_time": "2023-12-28T13:23:30.169233",
     "exception": false,
     "start_time": "2023-12-28T13:23:30.151539",
     "status": "completed"
    },
    "tags": []
   },
   "outputs": [],
   "source": [
    "df=data.copy()"
   ]
  },
  {
   "cell_type": "code",
   "execution_count": 4,
   "id": "b8aed06d",
   "metadata": {
    "execution": {
     "iopub.execute_input": "2023-12-28T13:23:30.186352Z",
     "iopub.status.busy": "2023-12-28T13:23:30.186016Z",
     "iopub.status.idle": "2023-12-28T13:23:30.255601Z",
     "shell.execute_reply": "2023-12-28T13:23:30.253738Z"
    },
    "papermill": {
     "duration": 0.081214,
     "end_time": "2023-12-28T13:23:30.258452",
     "exception": false,
     "start_time": "2023-12-28T13:23:30.177238",
     "status": "completed"
    },
    "tags": []
   },
   "outputs": [
    {
     "name": "stdout",
     "output_type": "stream",
     "text": [
      "                     count      mean       std      min       25%       50%  \\\n",
      "MarketID         548.00000   5.71533   2.87700  1.00000   3.00000   6.00000   \n",
      "LocationID       548.00000 479.65693 287.97368  1.00000 216.00000 504.00000   \n",
      "AgeOfStore       548.00000   8.50365   6.63835  1.00000   4.00000   7.00000   \n",
      "Promotion        548.00000   2.02920   0.81073  1.00000   1.00000   2.00000   \n",
      "week             548.00000   2.50000   1.11906  1.00000   1.75000   2.50000   \n",
      "SalesInThousands 548.00000  53.46620  16.75522 17.34000  42.54500  50.20000   \n",
      "\n",
      "                       75%       max  \n",
      "MarketID           8.00000  10.00000  \n",
      "LocationID       708.00000 920.00000  \n",
      "AgeOfStore        12.00000  28.00000  \n",
      "Promotion          3.00000   3.00000  \n",
      "week               3.25000   4.00000  \n",
      "SalesInThousands  60.47750  99.65000  \n",
      "****************shape***************************\n",
      "(548, 7)\n",
      "***************info*******************\n",
      "<class 'pandas.core.frame.DataFrame'>\n",
      "RangeIndex: 548 entries, 0 to 547\n",
      "Data columns (total 7 columns):\n",
      " #   Column            Non-Null Count  Dtype  \n",
      "---  ------            --------------  -----  \n",
      " 0   MarketID          548 non-null    int64  \n",
      " 1   MarketSize        548 non-null    object \n",
      " 2   LocationID        548 non-null    int64  \n",
      " 3   AgeOfStore        548 non-null    int64  \n",
      " 4   Promotion         548 non-null    int64  \n",
      " 5   week              548 non-null    int64  \n",
      " 6   SalesInThousands  548 non-null    float64\n",
      "dtypes: float64(1), int64(5), object(1)\n",
      "memory usage: 30.1+ KB\n",
      "None\n",
      "***************valuecounts************\n",
      "MarketID  MarketSize  LocationID  AgeOfStore  Promotion  week  SalesInThousands\n",
      "1         Medium      1           4           3          1     33.73000            1\n",
      "7         Medium      613         18          1          1     42.76000            1\n",
      "                      611         11          3          3     42.50000            1\n",
      "                                                         4     52.76000            1\n",
      "                      612         1           3          1     47.63000            1\n",
      "Name: count, dtype: int64\n",
      "*********na***********\n",
      "MarketID            0\n",
      "MarketSize          0\n",
      "LocationID          0\n",
      "AgeOfStore          0\n",
      "Promotion           0\n",
      "week                0\n",
      "SalesInThousands    0\n",
      "dtype: int64\n",
      "********data types******\n",
      "MarketID              int64\n",
      "MarketSize           object\n",
      "LocationID            int64\n",
      "AgeOfStore            int64\n",
      "Promotion             int64\n",
      "week                  int64\n",
      "SalesInThousands    float64\n",
      "dtype: object\n",
      "*******head******\n",
      "   MarketID MarketSize  LocationID  AgeOfStore  Promotion  week  \\\n",
      "0         1     Medium           1           4          3     1   \n",
      "1         1     Medium           1           4          3     2   \n",
      "2         1     Medium           1           4          3     3   \n",
      "3         1     Medium           1           4          3     4   \n",
      "4         1     Medium           2           5          2     1   \n",
      "\n",
      "   SalesInThousands  \n",
      "0          33.73000  \n",
      "1          35.67000  \n",
      "2          29.03000  \n",
      "3          39.25000  \n",
      "4          27.81000  \n"
     ]
    }
   ],
   "source": [
    "def check_data(data,head=5):\n",
    "    print(data.describe().T)\n",
    "    print(\"****************shape***************************\")\n",
    "    #shape\n",
    "    print(data.shape)\n",
    "    print(\"***************info*******************\")\n",
    "    #data info\n",
    "    print(data.info())\n",
    "    print(\"***************valuecounts************\")\n",
    "    #value counts\n",
    "    print(data.value_counts().head())\n",
    "    print(\"*********na***********\")\n",
    "    print(data.isnull().sum())\n",
    "    print(\"********data types******\")\n",
    "    print(data.dtypes)\n",
    "    print(\"*******head******\")\n",
    "    print(df.head())\n",
    "\n",
    "\n",
    "\n",
    "\n",
    "check_data(df)\n"
   ]
  },
  {
   "cell_type": "code",
   "execution_count": 5,
   "id": "222fd634",
   "metadata": {
    "execution": {
     "iopub.execute_input": "2023-12-28T13:23:30.275161Z",
     "iopub.status.busy": "2023-12-28T13:23:30.274741Z",
     "iopub.status.idle": "2023-12-28T13:23:30.282281Z",
     "shell.execute_reply": "2023-12-28T13:23:30.280572Z"
    },
    "papermill": {
     "duration": 0.018933,
     "end_time": "2023-12-28T13:23:30.284944",
     "exception": false,
     "start_time": "2023-12-28T13:23:30.266011",
     "status": "completed"
    },
    "tags": []
   },
   "outputs": [],
   "source": [
    "def num_summary(dataframe, numerical_col, plot=False):\n",
    "    quantiles = [0.05, 0.10, 0.20, 0.30, 0.40, 0.50, 0.60, 0.70, 0.80, 0.90, 0.95, 0.99]\n",
    "    print(dataframe[numerical_col].describe(quantiles).T)\n",
    "\n",
    "    if plot:\n",
    "        dataframe[numerical_col].hist(bins=20)\n",
    "        plt.xlabel(numerical_col)\n",
    "        plt.title(numerical_col)\n",
    "        plt.show(block=True)\n"
   ]
  },
  {
   "cell_type": "code",
   "execution_count": 6,
   "id": "1b966a53",
   "metadata": {
    "execution": {
     "iopub.execute_input": "2023-12-28T13:23:30.301613Z",
     "iopub.status.busy": "2023-12-28T13:23:30.301156Z",
     "iopub.status.idle": "2023-12-28T13:23:30.311377Z",
     "shell.execute_reply": "2023-12-28T13:23:30.309803Z"
    },
    "papermill": {
     "duration": 0.021985,
     "end_time": "2023-12-28T13:23:30.314327",
     "exception": false,
     "start_time": "2023-12-28T13:23:30.292342",
     "status": "completed"
    },
    "tags": []
   },
   "outputs": [
    {
     "data": {
      "text/plain": [
       "['MarketID',\n",
       " 'LocationID',\n",
       " 'AgeOfStore',\n",
       " 'Promotion',\n",
       " 'week',\n",
       " 'SalesInThousands']"
      ]
     },
     "execution_count": 6,
     "metadata": {},
     "output_type": "execute_result"
    }
   ],
   "source": [
    "cols=[col for col in df.columns if str(df[col].dtypes) in [\"int64\",\"float64\"]]\n",
    "cols"
   ]
  },
  {
   "cell_type": "code",
   "execution_count": 7,
   "id": "4cdbb68b",
   "metadata": {
    "execution": {
     "iopub.execute_input": "2023-12-28T13:23:30.331902Z",
     "iopub.status.busy": "2023-12-28T13:23:30.331374Z",
     "iopub.status.idle": "2023-12-28T13:23:30.364500Z",
     "shell.execute_reply": "2023-12-28T13:23:30.362575Z"
    },
    "papermill": {
     "duration": 0.045561,
     "end_time": "2023-12-28T13:23:30.367650",
     "exception": false,
     "start_time": "2023-12-28T13:23:30.322089",
     "status": "completed"
    },
    "tags": []
   },
   "outputs": [
    {
     "name": "stdout",
     "output_type": "stream",
     "text": [
      "                     count      mean       std      min       5%       10%  \\\n",
      "MarketID         548.00000   5.71533   2.87700  1.00000  1.00000   2.00000   \n",
      "LocationID       548.00000 479.65693 287.97368  1.00000  7.35000 101.00000   \n",
      "AgeOfStore       548.00000   8.50365   6.63835  1.00000  1.00000   1.00000   \n",
      "Promotion        548.00000   2.02920   0.81073  1.00000  1.00000   1.00000   \n",
      "week             548.00000   2.50000   1.11906  1.00000  1.00000   1.00000   \n",
      "SalesInThousands 548.00000  53.46620  16.75522 17.34000 30.62150  35.41200   \n",
      "\n",
      "                       20%       30%       40%       50%       60%       70%  \\\n",
      "MarketID           3.00000   4.00000   5.00000   6.00000   7.00000   8.00000   \n",
      "LocationID       209.00000 301.00000 405.00000 504.00000 603.00000 701.00000   \n",
      "AgeOfStore         3.00000   4.00000   5.00000   7.00000   8.00000  10.00000   \n",
      "Promotion          1.00000   1.00000   2.00000   2.00000   2.00000   3.00000   \n",
      "week               1.00000   2.00000   2.00000   2.50000   3.00000   3.00000   \n",
      "SalesInThousands  40.56000  44.20900  47.34600  50.20000  53.47600  57.03500   \n",
      "\n",
      "                       80%       90%       95%       99%       max  \n",
      "MarketID           9.00000  10.00000  10.00000  10.00000  10.00000  \n",
      "LocationID       803.00000 907.00000 913.65000 919.00000 920.00000  \n",
      "AgeOfStore        13.00000  19.00000  23.00000  27.00000  28.00000  \n",
      "Promotion          3.00000   3.00000   3.00000   3.00000   3.00000  \n",
      "week               4.00000   4.00000   4.00000   4.00000   4.00000  \n",
      "SalesInThousands  63.61600  82.26600  88.45800  94.67380  99.65000  \n"
     ]
    }
   ],
   "source": [
    "num_summary(df,cols)"
   ]
  },
  {
   "cell_type": "code",
   "execution_count": 8,
   "id": "49a91a35",
   "metadata": {
    "execution": {
     "iopub.execute_input": "2023-12-28T13:23:30.385558Z",
     "iopub.status.busy": "2023-12-28T13:23:30.385110Z",
     "iopub.status.idle": "2023-12-28T13:23:30.393794Z",
     "shell.execute_reply": "2023-12-28T13:23:30.392295Z"
    },
    "papermill": {
     "duration": 0.020338,
     "end_time": "2023-12-28T13:23:30.396209",
     "exception": false,
     "start_time": "2023-12-28T13:23:30.375871",
     "status": "completed"
    },
    "tags": []
   },
   "outputs": [
    {
     "data": {
      "text/plain": [
       "['MarketSize']"
      ]
     },
     "execution_count": 8,
     "metadata": {},
     "output_type": "execute_result"
    }
   ],
   "source": [
    "cat_cols = [col for col in df.columns if df[col].dtypes == 'O']\n",
    "\n",
    "cat_cols"
   ]
  },
  {
   "cell_type": "code",
   "execution_count": 9,
   "id": "9bc4e28f",
   "metadata": {
    "execution": {
     "iopub.execute_input": "2023-12-28T13:23:30.414819Z",
     "iopub.status.busy": "2023-12-28T13:23:30.414147Z",
     "iopub.status.idle": "2023-12-28T13:23:30.697328Z",
     "shell.execute_reply": "2023-12-28T13:23:30.696422Z"
    },
    "papermill": {
     "duration": 0.294718,
     "end_time": "2023-12-28T13:23:30.699258",
     "exception": false,
     "start_time": "2023-12-28T13:23:30.404540",
     "status": "completed"
    },
    "tags": []
   },
   "outputs": [
    {
     "data": {
      "text/plain": [
       "Text(0.5, 1.0, 'Categorical Features')"
      ]
     },
     "execution_count": 9,
     "metadata": {},
     "output_type": "execute_result"
    },
    {
     "data": {
      "image/png": "[encoded data removed]",
      "text/plain": [
       "<Figure size 500x500 with 1 Axes>"
      ]
     },
     "metadata": {},
     "output_type": "display_data"
    }
   ],
   "source": [
    "fig = plt.figure(figsize = (5,5))\n",
    "ax = sns.countplot(df , x = 'MarketSize')\n",
    "ax.bar_label(ax.containers[0])\n",
    "plt.title('Categorical Features')"
   ]
  },
  {
   "cell_type": "markdown",
   "id": "a5d4f321",
   "metadata": {
    "execution": {
     "iopub.execute_input": "2023-11-17T18:19:20.155780Z",
     "iopub.status.busy": "2023-11-17T18:19:20.155371Z",
     "iopub.status.idle": "2023-11-17T18:19:20.164910Z",
     "shell.execute_reply": "2023-11-17T18:19:20.163731Z",
     "shell.execute_reply.started": "2023-11-17T18:19:20.155749Z"
    },
    "papermill": {
     "duration": 0.007241,
     "end_time": "2023-12-28T13:23:30.714387",
     "exception": false,
     "start_time": "2023-12-28T13:23:30.707146",
     "status": "completed"
    },
    "tags": []
   },
   "source": [
    " ## Hypothesis: If market size is getting larger,our discount are becoming grow\n",
    "> H0 = Market size doesn't affect sales\n"
   ]
  },
  {
   "cell_type": "code",
   "execution_count": 10,
   "id": "9cffe935",
   "metadata": {
    "execution": {
     "iopub.execute_input": "2023-12-28T13:23:30.730983Z",
     "iopub.status.busy": "2023-12-28T13:23:30.730647Z",
     "iopub.status.idle": "2023-12-28T13:23:30.757244Z",
     "shell.execute_reply": "2023-12-28T13:23:30.754810Z"
    },
    "papermill": {
     "duration": 0.038944,
     "end_time": "2023-12-28T13:23:30.760996",
     "exception": false,
     "start_time": "2023-12-28T13:23:30.722052",
     "status": "completed"
    },
    "tags": []
   },
   "outputs": [
    {
     "data": {
      "text/html": [
       "<div>\n",
       "<style scoped>\n",
       "    .dataframe tbody tr th:only-of-type {\n",
       "        vertical-align: middle;\n",
       "    }\n",
       "\n",
       "    .dataframe tbody tr th {\n",
       "        vertical-align: top;\n",
       "    }\n",
       "\n",
       "    .dataframe thead tr th {\n",
       "        text-align: left;\n",
       "    }\n",
       "\n",
       "    .dataframe thead tr:last-of-type th {\n",
       "        text-align: right;\n",
       "    }\n",
       "</style>\n",
       "<table border=\"1\" class=\"dataframe\">\n",
       "  <thead>\n",
       "    <tr>\n",
       "      <th></th>\n",
       "      <th colspan=\"3\" halign=\"left\">Promotion</th>\n",
       "    </tr>\n",
       "    <tr>\n",
       "      <th></th>\n",
       "      <th>mean</th>\n",
       "      <th>count</th>\n",
       "      <th>sum</th>\n",
       "    </tr>\n",
       "    <tr>\n",
       "      <th>MarketSize</th>\n",
       "      <th></th>\n",
       "      <th></th>\n",
       "      <th></th>\n",
       "    </tr>\n",
       "  </thead>\n",
       "  <tbody>\n",
       "    <tr>\n",
       "      <th>Large</th>\n",
       "      <td>1.95238</td>\n",
       "      <td>168</td>\n",
       "      <td>328</td>\n",
       "    </tr>\n",
       "    <tr>\n",
       "      <th>Medium</th>\n",
       "      <td>2.06250</td>\n",
       "      <td>320</td>\n",
       "      <td>660</td>\n",
       "    </tr>\n",
       "    <tr>\n",
       "      <th>Small</th>\n",
       "      <td>2.06667</td>\n",
       "      <td>60</td>\n",
       "      <td>124</td>\n",
       "    </tr>\n",
       "  </tbody>\n",
       "</table>\n",
       "</div>"
      ],
      "text/plain": [
       "           Promotion           \n",
       "                mean count  sum\n",
       "MarketSize                     \n",
       "Large        1.95238   168  328\n",
       "Medium       2.06250   320  660\n",
       "Small        2.06667    60  124"
      ]
     },
     "execution_count": 10,
     "metadata": {},
     "output_type": "execute_result"
    }
   ],
   "source": [
    "df.groupby(\"MarketSize\").agg({\"Promotion\":[\"mean\",\"count\",\"sum\"]})"
   ]
  },
  {
   "cell_type": "code",
   "execution_count": 11,
   "id": "1f1989dc",
   "metadata": {
    "execution": {
     "iopub.execute_input": "2023-12-28T13:23:30.782266Z",
     "iopub.status.busy": "2023-12-28T13:23:30.781888Z",
     "iopub.status.idle": "2023-12-28T13:23:30.792173Z",
     "shell.execute_reply": "2023-12-28T13:23:30.790643Z"
    },
    "papermill": {
     "duration": 0.023993,
     "end_time": "2023-12-28T13:23:30.794828",
     "exception": false,
     "start_time": "2023-12-28T13:23:30.770835",
     "status": "completed"
    },
    "tags": []
   },
   "outputs": [
    {
     "name": "stdout",
     "output_type": "stream",
     "text": [
      "Medium size market Test Stat = 0.7928, p-value = 0.0000\n",
      "Small size market Test Stat = 0.7716, p-value = 0.0000\n",
      "Large size market Test Stat = 0.8021, p-value = 0.0000\n"
     ]
    }
   ],
   "source": [
    "for col in df[\"MarketSize\"].unique():\n",
    "    test_stat, pvalue = shapiro(df.loc[df[\"MarketSize\"] == col, \"Promotion\"])  # NORMAL DAGILIM\n",
    "    print(col,\"size market\",'Test Stat = %.4f, p-value = %.4f' % (test_stat, pvalue))\n"
   ]
  },
  {
   "cell_type": "markdown",
   "id": "e14b6346",
   "metadata": {
    "papermill": {
     "duration": 0.0088,
     "end_time": "2023-12-28T13:23:30.812181",
     "exception": false,
     "start_time": "2023-12-28T13:23:30.803381",
     "status": "completed"
    },
    "tags": []
   },
   "source": [
    "   H0 s rejected"
   ]
  },
  {
   "cell_type": "code",
   "execution_count": 12,
   "id": "88b91b47",
   "metadata": {
    "execution": {
     "iopub.execute_input": "2023-12-28T13:23:30.831691Z",
     "iopub.status.busy": "2023-12-28T13:23:30.831310Z",
     "iopub.status.idle": "2023-12-28T13:23:30.844546Z",
     "shell.execute_reply": "2023-12-28T13:23:30.843431Z"
    },
    "papermill": {
     "duration": 0.025249,
     "end_time": "2023-12-28T13:23:30.846420",
     "exception": false,
     "start_time": "2023-12-28T13:23:30.821171",
     "status": "completed"
    },
    "tags": []
   },
   "outputs": [
    {
     "name": "stdout",
     "output_type": "stream",
     "text": [
      "0.26450725020374\n"
     ]
    }
   ],
   "source": [
    "\n",
    "test_stat, pvalue = levene(df.loc[df[\"MarketSize\"] == \"Medium\", \"Promotion\"],\n",
    "                           df.loc[df[\"MarketSize\"] == \"Large\", \"Promotion\"],\n",
    "                           df.loc[df[\"MarketSize\"] == \"Small\", \"Promotion\"])\n",
    "print(pvalue)\n"
   ]
  },
  {
   "cell_type": "markdown",
   "id": "c0f4c497",
   "metadata": {
    "papermill": {
     "duration": 0.007577,
     "end_time": "2023-12-28T13:23:30.862389",
     "exception": false,
     "start_time": "2023-12-28T13:23:30.854812",
     "status": "completed"
    },
    "tags": []
   },
   "source": [
    "H0 is accepted"
   ]
  },
  {
   "cell_type": "markdown",
   "id": "ee690a97",
   "metadata": {
    "papermill": {
     "duration": 0.007506,
     "end_time": "2023-12-28T13:23:30.877778",
     "exception": false,
     "start_time": "2023-12-28T13:23:30.870272",
     "status": "completed"
    },
    "tags": []
   },
   "source": [
    "## Nonparametric "
   ]
  },
  {
   "cell_type": "code",
   "execution_count": 13,
   "id": "1cf29c77",
   "metadata": {
    "execution": {
     "iopub.execute_input": "2023-12-28T13:23:30.895480Z",
     "iopub.status.busy": "2023-12-28T13:23:30.895149Z",
     "iopub.status.idle": "2023-12-28T13:23:30.909595Z",
     "shell.execute_reply": "2023-12-28T13:23:30.908394Z"
    },
    "papermill": {
     "duration": 0.026241,
     "end_time": "2023-12-28T13:23:30.911676",
     "exception": false,
     "start_time": "2023-12-28T13:23:30.885435",
     "status": "completed"
    },
    "tags": []
   },
   "outputs": [
    {
     "name": "stdout",
     "output_type": "stream",
     "text": [
      "0.3291372607787283\n"
     ]
    }
   ],
   "source": [
    "test_stat,pvalue=kruskal(df.loc[df[\"MarketSize\"] == \"Medium\", \"Promotion\"],\n",
    "                           df.loc[df[\"MarketSize\"] == \"Large\", \"Promotion\"],\n",
    "                           df.loc[df[\"MarketSize\"] == \"Small\", \"Promotion\"])\n",
    "print(pvalue)\n"
   ]
  },
  {
   "cell_type": "markdown",
   "id": "75431b54",
   "metadata": {
    "execution": {
     "iopub.execute_input": "2023-11-17T19:20:53.322698Z",
     "iopub.status.busy": "2023-11-17T19:20:53.322249Z",
     "iopub.status.idle": "2023-11-17T19:20:53.350056Z",
     "shell.execute_reply": "2023-11-17T19:20:53.348853Z",
     "shell.execute_reply.started": "2023-11-17T19:20:53.322662Z"
    },
    "papermill": {
     "duration": 0.00748,
     "end_time": "2023-12-28T13:23:30.927480",
     "exception": false,
     "start_time": "2023-12-28T13:23:30.920000",
     "status": "completed"
    },
    "tags": []
   },
   "source": [
    "\n",
    "H0 is accepted"
   ]
  },
  {
   "cell_type": "markdown",
   "id": "c7d3af95",
   "metadata": {
    "papermill": {
     "duration": 0.007507,
     "end_time": "2023-12-28T13:23:30.942816",
     "exception": false,
     "start_time": "2023-12-28T13:23:30.935309",
     "status": "completed"
    },
    "tags": []
   },
   "source": [
    "## Tukey\n"
   ]
  },
  {
   "cell_type": "code",
   "execution_count": 14,
   "id": "3bc8f88f",
   "metadata": {
    "execution": {
     "iopub.execute_input": "2023-12-28T13:23:30.960549Z",
     "iopub.status.busy": "2023-12-28T13:23:30.960142Z",
     "iopub.status.idle": "2023-12-28T13:23:31.131197Z",
     "shell.execute_reply": "2023-12-28T13:23:31.129853Z"
    },
    "papermill": {
     "duration": 0.182399,
     "end_time": "2023-12-28T13:23:31.133090",
     "exception": false,
     "start_time": "2023-12-28T13:23:30.950691",
     "status": "completed"
    },
    "tags": []
   },
   "outputs": [
    {
     "name": "stdout",
     "output_type": "stream",
     "text": [
      "Multiple Comparison of Means - Tukey HSD, FWER=0.90\n",
      "===================================================\n",
      "group1 group2 meandiff p-adj   lower  upper  reject\n",
      "---------------------------------------------------\n",
      " Large Medium   0.1101 0.3283  0.0763 0.1439   True\n",
      " Large  Small   0.1143 0.6168   0.061 0.1676   True\n",
      "Medium  Small   0.0042 0.9993 -0.0457  0.054  False\n",
      "---------------------------------------------------\n"
     ]
    }
   ],
   "source": [
    "\n",
    "from statsmodels.stats.multicomp import MultiComparison\n",
    "comparison = MultiComparison(df['Promotion'], df['MarketSize'])\n",
    "tukey = comparison.tukeyhsd(0.90)\n",
    "print(tukey.summary())"
   ]
  },
  {
   "cell_type": "markdown",
   "id": "254462e4",
   "metadata": {
    "execution": {
     "iopub.execute_input": "2023-11-17T19:21:27.780717Z",
     "iopub.status.busy": "2023-11-17T19:21:27.780205Z",
     "iopub.status.idle": "2023-11-17T19:21:27.791777Z",
     "shell.execute_reply": "2023-11-17T19:21:27.790432Z",
     "shell.execute_reply.started": "2023-11-17T19:21:27.780684Z"
    },
    "papermill": {
     "duration": 0.007526,
     "end_time": "2023-12-28T13:23:31.148846",
     "exception": false,
     "start_time": "2023-12-28T13:23:31.141320",
     "status": "completed"
    },
    "tags": []
   },
   "source": [
    "* Promotion -Sales"
   ]
  },
  {
   "cell_type": "code",
   "execution_count": 15,
   "id": "8e07188d",
   "metadata": {
    "execution": {
     "iopub.execute_input": "2023-12-28T13:23:31.167998Z",
     "iopub.status.busy": "2023-12-28T13:23:31.167500Z",
     "iopub.status.idle": "2023-12-28T13:23:31.177622Z",
     "shell.execute_reply": "2023-12-28T13:23:31.176624Z"
    },
    "papermill": {
     "duration": 0.023156,
     "end_time": "2023-12-28T13:23:31.179705",
     "exception": false,
     "start_time": "2023-12-28T13:23:31.156549",
     "status": "completed"
    },
    "tags": []
   },
   "outputs": [
    {
     "data": {
      "text/plain": [
       "Promotion\n",
       "3    188\n",
       "2    188\n",
       "1    172\n",
       "Name: count, dtype: int64"
      ]
     },
     "execution_count": 15,
     "metadata": {},
     "output_type": "execute_result"
    }
   ],
   "source": [
    "df[\"Promotion\"].value_counts()\n",
    "\n",
    "##Thre types value of promotions"
   ]
  },
  {
   "cell_type": "code",
   "execution_count": 16,
   "id": "9050f446",
   "metadata": {
    "execution": {
     "iopub.execute_input": "2023-12-28T13:23:31.200207Z",
     "iopub.status.busy": "2023-12-28T13:23:31.199690Z",
     "iopub.status.idle": "2023-12-28T13:23:31.209635Z",
     "shell.execute_reply": "2023-12-28T13:23:31.208024Z"
    },
    "papermill": {
     "duration": 0.023,
     "end_time": "2023-12-28T13:23:31.211650",
     "exception": false,
     "start_time": "2023-12-28T13:23:31.188650",
     "status": "completed"
    },
    "tags": []
   },
   "outputs": [
    {
     "data": {
      "text/plain": [
       "Promotion\n",
       "1   58.09901\n",
       "2   47.32941\n",
       "3   55.36447\n",
       "Name: SalesInThousands, dtype: float64"
      ]
     },
     "execution_count": 16,
     "metadata": {},
     "output_type": "execute_result"
    }
   ],
   "source": [
    "df.groupby(\"Promotion\")[\"SalesInThousands\"].mean()"
   ]
  },
  {
   "cell_type": "code",
   "execution_count": 17,
   "id": "03060e41",
   "metadata": {
    "execution": {
     "iopub.execute_input": "2023-12-28T13:23:31.288689Z",
     "iopub.status.busy": "2023-12-28T13:23:31.288199Z",
     "iopub.status.idle": "2023-12-28T13:23:31.300073Z",
     "shell.execute_reply": "2023-12-28T13:23:31.298052Z"
    },
    "papermill": {
     "duration": 0.02573,
     "end_time": "2023-12-28T13:23:31.303484",
     "exception": false,
     "start_time": "2023-12-28T13:23:31.277754",
     "status": "completed"
    },
    "tags": []
   },
   "outputs": [
    {
     "data": {
      "text/plain": [
       "-0.05921195055396623"
      ]
     },
     "execution_count": 17,
     "metadata": {},
     "output_type": "execute_result"
    }
   ],
   "source": [
    "df[\"Promotion\"].corr(df.SalesInThousands)"
   ]
  },
  {
   "cell_type": "code",
   "execution_count": 18,
   "id": "c499868d",
   "metadata": {
    "execution": {
     "iopub.execute_input": "2023-12-28T13:23:31.323288Z",
     "iopub.status.busy": "2023-12-28T13:23:31.322912Z",
     "iopub.status.idle": "2023-12-28T13:23:31.639477Z",
     "shell.execute_reply": "2023-12-28T13:23:31.638025Z"
    },
    "papermill": {
     "duration": 0.329376,
     "end_time": "2023-12-28T13:23:31.642077",
     "exception": true,
     "start_time": "2023-12-28T13:23:31.312701",
     "status": "failed"
    },
    "tags": []
   },
   "outputs": [
    {
     "ename": "NameError",
     "evalue": "name 'p_value' is not defined",
     "output_type": "error",
     "traceback": [
      "\u001b[0;31m---------------------------------------------------------------------------\u001b[0m",
      "\u001b[0;31mNameError\u001b[0m                                 Traceback (most recent call last)",
      "Cell \u001b[0;32mIn[18], line 3\u001b[0m\n\u001b[1;32m      1\u001b[0m \u001b[38;5;28;01mfor\u001b[39;00m col \u001b[38;5;129;01min\u001b[39;00m df[\u001b[38;5;124m\"\u001b[39m\u001b[38;5;124mPromotion\u001b[39m\u001b[38;5;124m\"\u001b[39m]\u001b[38;5;241m.\u001b[39munique():\n\u001b[1;32m      2\u001b[0m     test_stat, pvalue \u001b[38;5;241m=\u001b[39m shapiro(df\u001b[38;5;241m.\u001b[39mloc[df[\u001b[38;5;124m\"\u001b[39m\u001b[38;5;124mPromotion\u001b[39m\u001b[38;5;124m\"\u001b[39m] \u001b[38;5;241m==\u001b[39m col, \u001b[38;5;124m\"\u001b[39m\u001b[38;5;124mSalesInThousands\u001b[39m\u001b[38;5;124m\"\u001b[39m])\n\u001b[0;32m----> 3\u001b[0m \u001b[38;5;28mprint\u001b[39m(\u001b[38;5;124m\"\u001b[39m\u001b[38;5;124mP-value : \u001b[39m\u001b[38;5;132;01m{}\u001b[39;00m\u001b[38;5;124m \u001b[39m\u001b[38;5;130;01m\\t\u001b[39;00m\u001b[38;5;124m H_0 reject : \u001b[39m\u001b[38;5;132;01m{}\u001b[39;00m\u001b[38;5;124m\"\u001b[39m\u001b[38;5;241m.\u001b[39mformat(\u001b[43mp_value\u001b[49m, p_value\u001b[38;5;241m<\u001b[39m\u001b[38;5;241m0.05\u001b[39m))\n",
      "\u001b[0;31mNameError\u001b[0m: name 'p_value' is not defined"
     ]
    }
   ],
   "source": [
    "for col in df[\"Promotion\"].unique():\n",
    "    test_stat, pvalue = shapiro(df.loc[df[\"Promotion\"] == col, \"SalesInThousands\"])\n",
    "print(\"P-value : {} \\t H_0 reject : {}\".format(p_value, p_value<0.05))"
   ]
  },
  {
   "cell_type": "markdown",
   "id": "5e8eb237",
   "metadata": {
    "papermill": {
     "duration": null,
     "end_time": null,
     "exception": null,
     "start_time": null,
     "status": "pending"
    },
    "tags": []
   },
   "source": [
    "The p-value for the normal distribution hypothesis is below 0.05, leading us to reject the null hypothesis, which suggests that the assumption of a normal distribution is not met. Consequently, it is necessary to employ a non-parametric test.\n"
   ]
  },
  {
   "cell_type": "code",
   "execution_count": null,
   "id": "b9375ff4",
   "metadata": {
    "execution": {
     "iopub.status.busy": "2023-11-17T20:29:09.425096Z",
     "iopub.status.idle": "2023-11-17T20:29:09.425677Z",
     "shell.execute_reply": "2023-11-17T20:29:09.425452Z",
     "shell.execute_reply.started": "2023-11-17T20:29:09.425430Z"
    },
    "papermill": {
     "duration": null,
     "end_time": null,
     "exception": null,
     "start_time": null,
     "status": "pending"
    },
    "tags": []
   },
   "outputs": [],
   "source": [
    "test_stat, p_value = kruskal(\n",
    "                            df[df[\"Promotion\"] == 1][\"SalesInThousands\"], \n",
    "                            df[df[\"Promotion\"] == 2][\"SalesInThousands\"], \n",
    "                            df[df[\"Promotion\"] == 3][\"SalesInThousands\"]\n",
    ")\n",
    "\n",
    "print(\"P-value : {} \\t H_0 reject : {}\".format(p_value, p_value<0.05))"
   ]
  },
  {
   "cell_type": "markdown",
   "id": "ca229742",
   "metadata": {
    "papermill": {
     "duration": null,
     "end_time": null,
     "exception": null,
     "start_time": null,
     "status": "pending"
    },
    "tags": []
   },
   "source": [
    "h0 is rejected"
   ]
  },
  {
   "cell_type": "code",
   "execution_count": null,
   "id": "61bc2986",
   "metadata": {
    "execution": {
     "iopub.status.busy": "2023-11-17T20:29:09.427245Z",
     "iopub.status.idle": "2023-11-17T20:29:09.427710Z",
     "shell.execute_reply": "2023-11-17T20:29:09.427516Z",
     "shell.execute_reply.started": "2023-11-17T20:29:09.427495Z"
    },
    "papermill": {
     "duration": null,
     "end_time": null,
     "exception": null,
     "start_time": null,
     "status": "pending"
    },
    "tags": []
   },
   "outputs": [],
   "source": [
    "from statsmodels.stats.multicomp import MultiComparison\n",
    "comparison = MultiComparison(df[\"SalesInThousands\"],df[\"Promotion\"])\n",
    "tukey = comparison.tukeyhsd(0.05)\n",
    "print(tukey.summary())"
   ]
  },
  {
   "cell_type": "code",
   "execution_count": null,
   "id": "ed90d74e",
   "metadata": {
    "execution": {
     "iopub.status.busy": "2023-11-17T20:29:09.430131Z",
     "iopub.status.idle": "2023-11-17T20:29:09.430648Z",
     "shell.execute_reply": "2023-11-17T20:29:09.430459Z",
     "shell.execute_reply.started": "2023-11-17T20:29:09.430436Z"
    },
    "papermill": {
     "duration": null,
     "end_time": null,
     "exception": null,
     "start_time": null,
     "status": "pending"
    },
    "tags": []
   },
   "outputs": [],
   "source": [
    "## week"
   ]
  },
  {
   "cell_type": "code",
   "execution_count": null,
   "id": "67ed64b1",
   "metadata": {
    "execution": {
     "iopub.status.busy": "2023-11-17T20:29:09.431850Z",
     "iopub.status.idle": "2023-11-17T20:29:09.432339Z",
     "shell.execute_reply": "2023-11-17T20:29:09.432084Z",
     "shell.execute_reply.started": "2023-11-17T20:29:09.432065Z"
    },
    "papermill": {
     "duration": null,
     "end_time": null,
     "exception": null,
     "start_time": null,
     "status": "pending"
    },
    "tags": []
   },
   "outputs": [],
   "source": [
    "df[\"week\"].corr(df[\"Promotion\"])"
   ]
  },
  {
   "cell_type": "code",
   "execution_count": null,
   "id": "9f193bf7",
   "metadata": {
    "execution": {
     "iopub.status.busy": "2023-11-17T20:29:09.433304Z",
     "iopub.status.idle": "2023-11-17T20:29:09.433679Z",
     "shell.execute_reply": "2023-11-17T20:29:09.433512Z",
     "shell.execute_reply.started": "2023-11-17T20:29:09.433494Z"
    },
    "papermill": {
     "duration": null,
     "end_time": null,
     "exception": null,
     "start_time": null,
     "status": "pending"
    },
    "tags": []
   },
   "outputs": [],
   "source": [
    "for col in df[\"week\"].unique():\n",
    "    test_stat, pvalue = shapiro(df.loc[df[\"week\"] == col, \"Promotion\"])  # NORMAL DAGILIM\n",
    "    print(col,\"size market\",'Test Stat = %.4f, p-value = %.4f' % (test_stat, pvalue))\n"
   ]
  },
  {
   "cell_type": "code",
   "execution_count": null,
   "id": "f6313346",
   "metadata": {
    "execution": {
     "iopub.status.busy": "2023-11-17T20:29:09.436883Z",
     "iopub.status.idle": "2023-11-17T20:29:09.437623Z",
     "shell.execute_reply": "2023-11-17T20:29:09.437319Z",
     "shell.execute_reply.started": "2023-11-17T20:29:09.437286Z"
    },
    "papermill": {
     "duration": null,
     "end_time": null,
     "exception": null,
     "start_time": null,
     "status": "pending"
    },
    "tags": []
   },
   "outputs": [],
   "source": [
    "\n",
    "test_stat, pvalue = levene(df.loc[df[\"week\"] == 1, \"Promotion\"],\n",
    "                           df.loc[df[\"week\"] == 2, \"Promotion\"],\n",
    "                           df.loc[df[\"week\"] == 3, \"Promotion\"],\n",
    "                          df.loc[df[\"week\"] == 4, \"Promotion\"])\n",
    "print(pvalue)\n"
   ]
  },
  {
   "cell_type": "code",
   "execution_count": null,
   "id": "69eafcdc",
   "metadata": {
    "execution": {
     "iopub.status.busy": "2023-11-17T20:29:09.440533Z",
     "iopub.status.idle": "2023-11-17T20:29:09.441064Z",
     "shell.execute_reply": "2023-11-17T20:29:09.440859Z",
     "shell.execute_reply.started": "2023-11-17T20:29:09.440837Z"
    },
    "papermill": {
     "duration": null,
     "end_time": null,
     "exception": null,
     "start_time": null,
     "status": "pending"
    },
    "tags": []
   },
   "outputs": [],
   "source": [
    "\n",
    "test_stat, pvalue = kruskal(df.loc[df[\"week\"] == 1, \"Promotion\"],\n",
    "                           df.loc[df[\"week\"] == 2, \"Promotion\"],\n",
    "                           df.loc[df[\"week\"] == 3, \"Promotion\"],\n",
    "                          df.loc[df[\"week\"] == 4, \"Promotion\"])\n",
    "print(pvalue)\n"
   ]
  },
  {
   "cell_type": "markdown",
   "id": "3ec0ae41",
   "metadata": {
    "papermill": {
     "duration": null,
     "end_time": null,
     "exception": null,
     "start_time": null,
     "status": "pending"
    },
    "tags": []
   },
   "source": [
    "H0 is accepted"
   ]
  }
 ],
 "metadata": {
  "kaggle": {
   "accelerator": "none",
   "dataSources": [
    {
     "datasetId": 1587383,
     "sourceId": 2611674,
     "sourceType": "datasetVersion"
    }
   ],
   "dockerImageVersionId": 30579,
   "isGpuEnabled": false,
   "isInternetEnabled": true,
   "language": "python",
   "sourceType": "notebook"
  },
  "kernelspec": {
   "display_name": "Python 3",
   "language": "python",
   "name": "python3"
  },
  "language_info": {
   "codemirror_mode": {
    "name": "ipython",
    "version": 3
   },
   "file_extension": ".py",
   "mimetype": "text/x-python",
   "name": "python",
   "nbconvert_exporter": "python",
   "pygments_lexer": "ipython3",
   "version": "3.10.12"
  },
  "papermill": {
   "default_parameters": {},
   "duration": 19.526188,
   "end_time": "2023-12-28T13:23:32.376335",
   "environment_variables": {},
   "exception": true,
   "input_path": "__notebook__.ipynb",
   "output_path": "__notebook__.ipynb",
   "parameters": {},
   "start_time": "2023-12-28T13:23:12.850147",
   "version": "2.4.0"
  }
 },
 "nbformat": 4,
 "nbformat_minor": 5
}
