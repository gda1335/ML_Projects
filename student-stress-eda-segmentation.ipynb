{
 "cells": [
  {
   "cell_type": "code",
   "execution_count": 1,
   "id": "888f6879",
   "metadata": {
    "_cell_guid": "b1076dfc-b9ad-4769-8c92-a6c4dae69d19",
    "_uuid": "8f2839f25d086af736a60e9eeb907d3b93b6e0e5",
    "execution": {
     "iopub.execute_input": "2023-12-26T20:12:00.613865Z",
     "iopub.status.busy": "2023-12-26T20:12:00.613162Z",
     "iopub.status.idle": "2023-12-26T20:12:02.812241Z",
     "shell.execute_reply": "2023-12-26T20:12:02.811137Z"
    },
    "papermill": {
     "duration": 2.216052,
     "end_time": "2023-12-26T20:12:02.814855",
     "exception": false,
     "start_time": "2023-12-26T20:12:00.598803",
     "status": "completed"
    },
    "tags": []
   },
   "outputs": [],
   "source": [
    "import numpy as np\n",
    "import pandas as pd\n",
    "import seaborn as sns\n",
    "from matplotlib import pyplot as plt"
   ]
  },
  {
   "cell_type": "code",
   "execution_count": 2,
   "id": "ef4abd13",
   "metadata": {
    "execution": {
     "iopub.execute_input": "2023-12-26T20:12:02.840334Z",
     "iopub.status.busy": "2023-12-26T20:12:02.839816Z",
     "iopub.status.idle": "2023-12-26T20:12:02.875732Z",
     "shell.execute_reply": "2023-12-26T20:12:02.874791Z"
    },
    "papermill": {
     "duration": 0.05107,
     "end_time": "2023-12-26T20:12:02.878084",
     "exception": false,
     "start_time": "2023-12-26T20:12:02.827014",
     "status": "completed"
    },
    "tags": []
   },
   "outputs": [
    {
     "data": {
      "text/html": [
       "<div>\n",
       "<style scoped>\n",
       "    .dataframe tbody tr th:only-of-type {\n",
       "        vertical-align: middle;\n",
       "    }\n",
       "\n",
       "    .dataframe tbody tr th {\n",
       "        vertical-align: top;\n",
       "    }\n",
       "\n",
       "    .dataframe thead th {\n",
       "        text-align: right;\n",
       "    }\n",
       "</style>\n",
       "<table border=\"1\" class=\"dataframe\">\n",
       "  <thead>\n",
       "    <tr style=\"text-align: right;\">\n",
       "      <th></th>\n",
       "      <th>Timestamp</th>\n",
       "      <th>Kindly Rate your Sleep Quality 😴</th>\n",
       "      <th>How many times a week do you suffer headaches 🤕?</th>\n",
       "      <th>How would you rate you academic performance 👩‍🎓?</th>\n",
       "      <th>how would you rate your study load?</th>\n",
       "      <th>How many times a week you practice extracurricular activities 🎾?</th>\n",
       "      <th>How would you rate your stress levels?</th>\n",
       "    </tr>\n",
       "  </thead>\n",
       "  <tbody>\n",
       "    <tr>\n",
       "      <th>0</th>\n",
       "      <td>27/10/2023 21:54:15</td>\n",
       "      <td>3</td>\n",
       "      <td>1</td>\n",
       "      <td>3</td>\n",
       "      <td>4</td>\n",
       "      <td>2</td>\n",
       "      <td>3</td>\n",
       "    </tr>\n",
       "    <tr>\n",
       "      <th>1</th>\n",
       "      <td>28/10/2023 12:24:40</td>\n",
       "      <td>4</td>\n",
       "      <td>1</td>\n",
       "      <td>2</td>\n",
       "      <td>3</td>\n",
       "      <td>3</td>\n",
       "      <td>2</td>\n",
       "    </tr>\n",
       "    <tr>\n",
       "      <th>2</th>\n",
       "      <td>28/10/2023 12:24:51</td>\n",
       "      <td>2</td>\n",
       "      <td>1</td>\n",
       "      <td>2</td>\n",
       "      <td>1</td>\n",
       "      <td>4</td>\n",
       "      <td>4</td>\n",
       "    </tr>\n",
       "    <tr>\n",
       "      <th>3</th>\n",
       "      <td>28/10/2023 12:26:11</td>\n",
       "      <td>3</td>\n",
       "      <td>2</td>\n",
       "      <td>3</td>\n",
       "      <td>2</td>\n",
       "      <td>3</td>\n",
       "      <td>3</td>\n",
       "    </tr>\n",
       "    <tr>\n",
       "      <th>4</th>\n",
       "      <td>28/10/2023 12:26:45</td>\n",
       "      <td>2</td>\n",
       "      <td>3</td>\n",
       "      <td>1</td>\n",
       "      <td>5</td>\n",
       "      <td>5</td>\n",
       "      <td>3</td>\n",
       "    </tr>\n",
       "  </tbody>\n",
       "</table>\n",
       "</div>"
      ],
      "text/plain": [
       "             Timestamp  Kindly Rate your Sleep Quality 😴  \\\n",
       "0  27/10/2023 21:54:15                                 3   \n",
       "1  28/10/2023 12:24:40                                 4   \n",
       "2  28/10/2023 12:24:51                                 2   \n",
       "3  28/10/2023 12:26:11                                 3   \n",
       "4  28/10/2023 12:26:45                                 2   \n",
       "\n",
       "   How many times a week do you suffer headaches 🤕?  \\\n",
       "0                                                 1   \n",
       "1                                                 1   \n",
       "2                                                 1   \n",
       "3                                                 2   \n",
       "4                                                 3   \n",
       "\n",
       "   How would you rate you academic performance 👩‍🎓?  \\\n",
       "0                                                 3   \n",
       "1                                                 2   \n",
       "2                                                 2   \n",
       "3                                                 3   \n",
       "4                                                 1   \n",
       "\n",
       "   how would you rate your study load?  \\\n",
       "0                                    4   \n",
       "1                                    3   \n",
       "2                                    1   \n",
       "3                                    2   \n",
       "4                                    5   \n",
       "\n",
       "   How many times a week you practice extracurricular activities 🎾?  \\\n",
       "0                                                  2                  \n",
       "1                                                  3                  \n",
       "2                                                  4                  \n",
       "3                                                  3                  \n",
       "4                                                  5                  \n",
       "\n",
       "   How would you rate your stress levels?  \n",
       "0                                       3  \n",
       "1                                       2  \n",
       "2                                       4  \n",
       "3                                       3  \n",
       "4                                       3  "
      ]
     },
     "execution_count": 2,
     "metadata": {},
     "output_type": "execute_result"
    }
   ],
   "source": [
    "st=pd.read_csv(\"/kaggle/input/student-stress-factors/Student Stress Factors.csv\")\n",
    "st.head()"
   ]
  },
  {
   "cell_type": "code",
   "execution_count": 3,
   "id": "fa9a48cb",
   "metadata": {
    "execution": {
     "iopub.execute_input": "2023-12-26T20:12:02.904238Z",
     "iopub.status.busy": "2023-12-26T20:12:02.903837Z",
     "iopub.status.idle": "2023-12-26T20:12:02.915153Z",
     "shell.execute_reply": "2023-12-26T20:12:02.914397Z"
    },
    "papermill": {
     "duration": 0.026662,
     "end_time": "2023-12-26T20:12:02.917199",
     "exception": false,
     "start_time": "2023-12-26T20:12:02.890537",
     "status": "completed"
    },
    "tags": []
   },
   "outputs": [],
   "source": [
    "st.drop(\"Timestamp\", axis=1, inplace=True)\n"
   ]
  },
  {
   "cell_type": "code",
   "execution_count": 4,
   "id": "82eec652",
   "metadata": {
    "execution": {
     "iopub.execute_input": "2023-12-26T20:12:02.943856Z",
     "iopub.status.busy": "2023-12-26T20:12:02.943154Z",
     "iopub.status.idle": "2023-12-26T20:12:02.948878Z",
     "shell.execute_reply": "2023-12-26T20:12:02.948181Z"
    },
    "papermill": {
     "duration": 0.021408,
     "end_time": "2023-12-26T20:12:02.950923",
     "exception": false,
     "start_time": "2023-12-26T20:12:02.929515",
     "status": "completed"
    },
    "tags": []
   },
   "outputs": [
    {
     "data": {
      "text/plain": [
       "Index(['Kindly Rate your Sleep Quality 😴',\n",
       "       'How many times a week do you suffer headaches 🤕?',\n",
       "       'How would you rate you academic performance 👩‍🎓?',\n",
       "       'how would you rate your study load?',\n",
       "       'How many times a week you practice extracurricular activities 🎾?',\n",
       "       'How would you rate your stress levels?'],\n",
       "      dtype='object')"
      ]
     },
     "execution_count": 4,
     "metadata": {},
     "output_type": "execute_result"
    }
   ],
   "source": [
    "st.columns"
   ]
  },
  {
   "cell_type": "code",
   "execution_count": 5,
   "id": "4d26f982",
   "metadata": {
    "execution": {
     "iopub.execute_input": "2023-12-26T20:12:02.977859Z",
     "iopub.status.busy": "2023-12-26T20:12:02.977216Z",
     "iopub.status.idle": "2023-12-26T20:12:02.982694Z",
     "shell.execute_reply": "2023-12-26T20:12:02.981977Z"
    },
    "papermill": {
     "duration": 0.021278,
     "end_time": "2023-12-26T20:12:02.984779",
     "exception": false,
     "start_time": "2023-12-26T20:12:02.963501",
     "status": "completed"
    },
    "tags": []
   },
   "outputs": [],
   "source": [
    "st.rename(columns={\n",
    "                 \"Kindly Rate your Sleep Quality 😴\": \"sleep_quality\", \n",
    "                 \"How many times a week do you suffer headaches 🤕?\": \"headache\", \n",
    "                 \"How would you rate you academic performance 👩‍🎓?\": \"academic\", \n",
    "                 \"how would you rate your study load?\": \"study_load\", \n",
    "                 \"How many times a week you practice extracurricular activities 🎾?\": \"extra_act\", \n",
    "                 \"How would you rate your stress levels?\": \"stress_level\"}, inplace=True)"
   ]
  },
  {
   "cell_type": "code",
   "execution_count": 6,
   "id": "fd58d27a",
   "metadata": {
    "execution": {
     "iopub.execute_input": "2023-12-26T20:12:03.011636Z",
     "iopub.status.busy": "2023-12-26T20:12:03.010709Z",
     "iopub.status.idle": "2023-12-26T20:12:03.021107Z",
     "shell.execute_reply": "2023-12-26T20:12:03.020401Z"
    },
    "papermill": {
     "duration": 0.02595,
     "end_time": "2023-12-26T20:12:03.023034",
     "exception": false,
     "start_time": "2023-12-26T20:12:02.997084",
     "status": "completed"
    },
    "tags": []
   },
   "outputs": [
    {
     "data": {
      "text/html": [
       "<div>\n",
       "<style scoped>\n",
       "    .dataframe tbody tr th:only-of-type {\n",
       "        vertical-align: middle;\n",
       "    }\n",
       "\n",
       "    .dataframe tbody tr th {\n",
       "        vertical-align: top;\n",
       "    }\n",
       "\n",
       "    .dataframe thead th {\n",
       "        text-align: right;\n",
       "    }\n",
       "</style>\n",
       "<table border=\"1\" class=\"dataframe\">\n",
       "  <thead>\n",
       "    <tr style=\"text-align: right;\">\n",
       "      <th></th>\n",
       "      <th>sleep_quality</th>\n",
       "      <th>headache</th>\n",
       "      <th>academic</th>\n",
       "      <th>study_load</th>\n",
       "      <th>extra_act</th>\n",
       "      <th>stress_level</th>\n",
       "    </tr>\n",
       "  </thead>\n",
       "  <tbody>\n",
       "    <tr>\n",
       "      <th>0</th>\n",
       "      <td>3</td>\n",
       "      <td>1</td>\n",
       "      <td>3</td>\n",
       "      <td>4</td>\n",
       "      <td>2</td>\n",
       "      <td>3</td>\n",
       "    </tr>\n",
       "    <tr>\n",
       "      <th>1</th>\n",
       "      <td>4</td>\n",
       "      <td>1</td>\n",
       "      <td>2</td>\n",
       "      <td>3</td>\n",
       "      <td>3</td>\n",
       "      <td>2</td>\n",
       "    </tr>\n",
       "    <tr>\n",
       "      <th>2</th>\n",
       "      <td>2</td>\n",
       "      <td>1</td>\n",
       "      <td>2</td>\n",
       "      <td>1</td>\n",
       "      <td>4</td>\n",
       "      <td>4</td>\n",
       "    </tr>\n",
       "    <tr>\n",
       "      <th>3</th>\n",
       "      <td>3</td>\n",
       "      <td>2</td>\n",
       "      <td>3</td>\n",
       "      <td>2</td>\n",
       "      <td>3</td>\n",
       "      <td>3</td>\n",
       "    </tr>\n",
       "    <tr>\n",
       "      <th>4</th>\n",
       "      <td>2</td>\n",
       "      <td>3</td>\n",
       "      <td>1</td>\n",
       "      <td>5</td>\n",
       "      <td>5</td>\n",
       "      <td>3</td>\n",
       "    </tr>\n",
       "  </tbody>\n",
       "</table>\n",
       "</div>"
      ],
      "text/plain": [
       "   sleep_quality  headache  academic  study_load  extra_act  stress_level\n",
       "0              3         1         3           4          2             3\n",
       "1              4         1         2           3          3             2\n",
       "2              2         1         2           1          4             4\n",
       "3              3         2         3           2          3             3\n",
       "4              2         3         1           5          5             3"
      ]
     },
     "execution_count": 6,
     "metadata": {},
     "output_type": "execute_result"
    }
   ],
   "source": [
    "st.head()"
   ]
  },
  {
   "cell_type": "code",
   "execution_count": 7,
   "id": "fcb1e198",
   "metadata": {
    "execution": {
     "iopub.execute_input": "2023-12-26T20:12:03.050622Z",
     "iopub.status.busy": "2023-12-26T20:12:03.049725Z",
     "iopub.status.idle": "2023-12-26T20:12:03.064306Z",
     "shell.execute_reply": "2023-12-26T20:12:03.063206Z"
    },
    "papermill": {
     "duration": 0.030907,
     "end_time": "2023-12-26T20:12:03.066649",
     "exception": false,
     "start_time": "2023-12-26T20:12:03.035742",
     "status": "completed"
    },
    "tags": []
   },
   "outputs": [
    {
     "name": "stdout",
     "output_type": "stream",
     "text": [
      "##################### Shape #####################\n",
      "(53, 6)\n",
      "##################### Types #####################\n",
      "sleep_quality    int64\n",
      "headache         int64\n",
      "academic         int64\n",
      "study_load       int64\n",
      "extra_act        int64\n",
      "stress_level     int64\n",
      "dtype: object\n",
      "##################### Head #####################\n",
      "   sleep_quality  headache  academic  study_load  extra_act  stress_level\n",
      "0              3         1         3           4          2             3\n",
      "1              4         1         2           3          3             2\n",
      "2              2         1         2           1          4             4\n",
      "3              3         2         3           2          3             3\n",
      "4              2         3         1           5          5             3\n",
      "##################### Tail #####################\n",
      "    sleep_quality  headache  academic  study_load  extra_act  stress_level\n",
      "48              3         3         4           4          4             3\n",
      "49              1         1         1           2          3             1\n",
      "50              5         1         5           1          3             3\n",
      "51              1         1         5           1          5             1\n",
      "52              3         2         3           2          5             2\n",
      "##################### NA #####################\n",
      "sleep_quality    0\n",
      "headache         0\n",
      "academic         0\n",
      "study_load       0\n",
      "extra_act        0\n",
      "stress_level     0\n",
      "dtype: int64\n"
     ]
    }
   ],
   "source": [
    "def check_df(dataframe, head=5):\n",
    "    print(\"##################### Shape #####################\")\n",
    "    print(dataframe.shape)\n",
    "    print(\"##################### Types #####################\")\n",
    "    print(dataframe.dtypes)\n",
    "    print(\"##################### Head #####################\")\n",
    "    print(dataframe.head(head))\n",
    "    print(\"##################### Tail #####################\")\n",
    "    print(dataframe.tail(head))\n",
    "    print(\"##################### NA #####################\")\n",
    "    print(dataframe.isnull().sum())\n",
    "\n",
    "\n",
    "check_df(st)\n"
   ]
  },
  {
   "cell_type": "code",
   "execution_count": 8,
   "id": "e2496e35",
   "metadata": {
    "execution": {
     "iopub.execute_input": "2023-12-26T20:12:03.094341Z",
     "iopub.status.busy": "2023-12-26T20:12:03.093940Z",
     "iopub.status.idle": "2023-12-26T20:12:03.100434Z",
     "shell.execute_reply": "2023-12-26T20:12:03.099372Z"
    },
    "papermill": {
     "duration": 0.02317,
     "end_time": "2023-12-26T20:12:03.102656",
     "exception": false,
     "start_time": "2023-12-26T20:12:03.079486",
     "status": "completed"
    },
    "tags": []
   },
   "outputs": [
    {
     "data": {
      "text/plain": [
       "(53, 6)"
      ]
     },
     "execution_count": 8,
     "metadata": {},
     "output_type": "execute_result"
    }
   ],
   "source": [
    "st.shape"
   ]
  },
  {
   "cell_type": "code",
   "execution_count": 9,
   "id": "e97d4285",
   "metadata": {
    "execution": {
     "iopub.execute_input": "2023-12-26T20:12:03.131004Z",
     "iopub.status.busy": "2023-12-26T20:12:03.129955Z",
     "iopub.status.idle": "2023-12-26T20:12:03.137580Z",
     "shell.execute_reply": "2023-12-26T20:12:03.136677Z"
    },
    "papermill": {
     "duration": 0.024029,
     "end_time": "2023-12-26T20:12:03.139695",
     "exception": false,
     "start_time": "2023-12-26T20:12:03.115666",
     "status": "completed"
    },
    "tags": []
   },
   "outputs": [
    {
     "data": {
      "text/plain": [
       "sleep_quality    0\n",
       "headache         0\n",
       "academic         0\n",
       "study_load       0\n",
       "extra_act        0\n",
       "stress_level     0\n",
       "dtype: int64"
      ]
     },
     "execution_count": 9,
     "metadata": {},
     "output_type": "execute_result"
    }
   ],
   "source": [
    "st.isna().sum()"
   ]
  },
  {
   "cell_type": "code",
   "execution_count": 10,
   "id": "27e6f1ae",
   "metadata": {
    "execution": {
     "iopub.execute_input": "2023-12-26T20:12:03.168315Z",
     "iopub.status.busy": "2023-12-26T20:12:03.167633Z",
     "iopub.status.idle": "2023-12-26T20:12:05.256946Z",
     "shell.execute_reply": "2023-12-26T20:12:05.255902Z"
    },
    "papermill": {
     "duration": 2.106839,
     "end_time": "2023-12-26T20:12:05.259793",
     "exception": false,
     "start_time": "2023-12-26T20:12:03.152954",
     "status": "completed"
    },
    "tags": []
   },
   "outputs": [
    {
     "name": "stdout",
     "output_type": "stream",
     "text": [
      "count    53.000000\n",
      "mean      3.150943\n",
      "std       1.199298\n",
      "min       1.000000\n",
      "5%        1.000000\n",
      "10%       2.000000\n",
      "20%       2.000000\n",
      "30%       2.000000\n",
      "40%       3.000000\n",
      "50%       3.000000\n",
      "60%       3.000000\n",
      "70%       4.000000\n",
      "80%       4.000000\n",
      "90%       5.000000\n",
      "95%       5.000000\n",
      "99%       5.000000\n",
      "max       5.000000\n",
      "Name: sleep_quality, dtype: float64\n"
     ]
    },
    {
     "data": {
      "image/png": "[encoded data removed]",
      "text/plain": [
       "<Figure size 640x480 with 1 Axes>"
      ]
     },
     "metadata": {},
     "output_type": "display_data"
    },
    {
     "name": "stdout",
     "output_type": "stream",
     "text": [
      "count    53.000000\n",
      "mean      1.981132\n",
      "std       1.263246\n",
      "min       1.000000\n",
      "5%        1.000000\n",
      "10%       1.000000\n",
      "20%       1.000000\n",
      "30%       1.000000\n",
      "40%       1.000000\n",
      "50%       1.000000\n",
      "60%       2.000000\n",
      "70%       3.000000\n",
      "80%       3.000000\n",
      "90%       4.000000\n",
      "95%       4.400000\n",
      "99%       5.000000\n",
      "max       5.000000\n",
      "Name: headache, dtype: float64\n"
     ]
    },
    {
     "data": {
      "image/png": "[encoded data removed]",
      "text/plain": [
       "<Figure size 640x480 with 1 Axes>"
      ]
     },
     "metadata": {},
     "output_type": "display_data"
    },
    {
     "name": "stdout",
     "output_type": "stream",
     "text": [
      "count    53.000000\n",
      "mean      3.226415\n",
      "std       1.154281\n",
      "min       1.000000\n",
      "5%        1.000000\n",
      "10%       1.200000\n",
      "20%       2.400000\n",
      "30%       3.000000\n",
      "40%       3.000000\n",
      "50%       3.000000\n",
      "60%       4.000000\n",
      "70%       4.000000\n",
      "80%       4.000000\n",
      "90%       5.000000\n",
      "95%       5.000000\n",
      "99%       5.000000\n",
      "max       5.000000\n",
      "Name: academic, dtype: float64\n"
     ]
    },
    {
     "data": {
      "image/png": "[encoded data removed]",
      "text/plain": [
       "<Figure size 640x480 with 1 Axes>"
      ]
     },
     "metadata": {},
     "output_type": "display_data"
    },
    {
     "name": "stdout",
     "output_type": "stream",
     "text": [
      "count    53.000000\n",
      "mean      2.811321\n",
      "std       1.428509\n",
      "min       1.000000\n",
      "5%        1.000000\n",
      "10%       1.000000\n",
      "20%       1.000000\n",
      "30%       2.000000\n",
      "40%       2.000000\n",
      "50%       2.000000\n",
      "60%       3.200000\n",
      "70%       4.000000\n",
      "80%       4.000000\n",
      "90%       5.000000\n",
      "95%       5.000000\n",
      "99%       5.000000\n",
      "max       5.000000\n",
      "Name: study_load, dtype: float64\n"
     ]
    },
    {
     "data": {
      "image/png": "[encoded data removed]",
      "text/plain": [
       "<Figure size 640x480 with 1 Axes>"
      ]
     },
     "metadata": {},
     "output_type": "display_data"
    },
    {
     "name": "stdout",
     "output_type": "stream",
     "text": [
      "count    53.000000\n",
      "mean      2.886792\n",
      "std       1.449939\n",
      "min       1.000000\n",
      "5%        1.000000\n",
      "10%       1.000000\n",
      "20%       1.000000\n",
      "30%       2.000000\n",
      "40%       2.000000\n",
      "50%       3.000000\n",
      "60%       3.000000\n",
      "70%       4.000000\n",
      "80%       4.600000\n",
      "90%       5.000000\n",
      "95%       5.000000\n",
      "99%       5.000000\n",
      "max       5.000000\n",
      "Name: extra_act, dtype: float64\n"
     ]
    },
    {
     "data": {
      "image/png": "[encoded data removed]",
      "text/plain": [
       "<Figure size 640x480 with 1 Axes>"
      ]
     },
     "metadata": {},
     "output_type": "display_data"
    },
    {
     "name": "stdout",
     "output_type": "stream",
     "text": [
      "count    53.000000\n",
      "mean      2.792453\n",
      "std       1.377826\n",
      "min       1.000000\n",
      "5%        1.000000\n",
      "10%       1.000000\n",
      "20%       1.000000\n",
      "30%       2.000000\n",
      "40%       2.000000\n",
      "50%       3.000000\n",
      "60%       3.000000\n",
      "70%       4.000000\n",
      "80%       4.000000\n",
      "90%       5.000000\n",
      "95%       5.000000\n",
      "99%       5.000000\n",
      "max       5.000000\n",
      "Name: stress_level, dtype: float64\n"
     ]
    },
    {
     "data": {
      "image/png": "[encoded data removed]",
      "text/plain": [
       "<Figure size 640x480 with 1 Axes>"
      ]
     },
     "metadata": {},
     "output_type": "display_data"
    }
   ],
   "source": [
    "def num_summary(dataframe, numerical_col, plot=False):\n",
    "    quantiles = [0.05, 0.10, 0.20, 0.30, 0.40, 0.50, 0.60, 0.70, 0.80, 0.90, 0.95, 0.99]\n",
    "    print(dataframe[numerical_col].describe(quantiles).T)\n",
    "\n",
    "    if plot:\n",
    "        dataframe[numerical_col].hist(bins=20)\n",
    "        plt.xlabel(numerical_col)\n",
    "        plt.title(numerical_col)\n",
    "        plt.show(block=True)\n",
    "\n",
    "\n",
    "for col in st.columns:\n",
    "    num_summary(st, col, plot=True)\n"
   ]
  },
  {
   "cell_type": "code",
   "execution_count": 11,
   "id": "d91d012b",
   "metadata": {
    "execution": {
     "iopub.execute_input": "2023-12-26T20:12:05.293823Z",
     "iopub.status.busy": "2023-12-26T20:12:05.293433Z",
     "iopub.status.idle": "2023-12-26T20:12:05.309302Z",
     "shell.execute_reply": "2023-12-26T20:12:05.308210Z"
    },
    "papermill": {
     "duration": 0.035478,
     "end_time": "2023-12-26T20:12:05.311475",
     "exception": false,
     "start_time": "2023-12-26T20:12:05.275997",
     "status": "completed"
    },
    "tags": []
   },
   "outputs": [
    {
     "data": {
      "text/plain": [
       "study_load\n",
       "1    2.333333\n",
       "2    2.400000\n",
       "3    3.400000\n",
       "4    2.692308\n",
       "5    4.000000\n",
       "Name: stress_level, dtype: float64"
      ]
     },
     "execution_count": 11,
     "metadata": {},
     "output_type": "execute_result"
    }
   ],
   "source": [
    "st.groupby(\"study_load\")[\"stress_level\"].mean()"
   ]
  },
  {
   "cell_type": "code",
   "execution_count": 12,
   "id": "38b566d8",
   "metadata": {
    "execution": {
     "iopub.execute_input": "2023-12-26T20:12:05.346076Z",
     "iopub.status.busy": "2023-12-26T20:12:05.345657Z",
     "iopub.status.idle": "2023-12-26T20:12:05.354116Z",
     "shell.execute_reply": "2023-12-26T20:12:05.353151Z"
    },
    "papermill": {
     "duration": 0.028283,
     "end_time": "2023-12-26T20:12:05.356358",
     "exception": false,
     "start_time": "2023-12-26T20:12:05.328075",
     "status": "completed"
    },
    "tags": []
   },
   "outputs": [
    {
     "data": {
      "text/plain": [
       "sleep_quality\n",
       "1    1.500000\n",
       "2    3.000000\n",
       "3    2.437500\n",
       "4    2.727273\n",
       "5    3.777778\n",
       "Name: stress_level, dtype: float64"
      ]
     },
     "execution_count": 12,
     "metadata": {},
     "output_type": "execute_result"
    }
   ],
   "source": [
    "st.groupby(\"sleep_quality\")[\"stress_level\"].mean()"
   ]
  },
  {
   "cell_type": "code",
   "execution_count": 13,
   "id": "d48ea1ee",
   "metadata": {
    "execution": {
     "iopub.execute_input": "2023-12-26T20:12:05.391965Z",
     "iopub.status.busy": "2023-12-26T20:12:05.391573Z",
     "iopub.status.idle": "2023-12-26T20:12:05.399837Z",
     "shell.execute_reply": "2023-12-26T20:12:05.399089Z"
    },
    "papermill": {
     "duration": 0.028916,
     "end_time": "2023-12-26T20:12:05.402198",
     "exception": false,
     "start_time": "2023-12-26T20:12:05.373282",
     "status": "completed"
    },
    "tags": []
   },
   "outputs": [
    {
     "data": {
      "text/plain": [
       "academic\n",
       "1    2.833333\n",
       "2    2.200000\n",
       "3    2.900000\n",
       "4    3.000000\n",
       "5    2.428571\n",
       "Name: stress_level, dtype: float64"
      ]
     },
     "execution_count": 13,
     "metadata": {},
     "output_type": "execute_result"
    }
   ],
   "source": [
    "st.groupby(\"academic\")[\"stress_level\"].mean()"
   ]
  },
  {
   "cell_type": "code",
   "execution_count": 14,
   "id": "1616e5ea",
   "metadata": {
    "execution": {
     "iopub.execute_input": "2023-12-26T20:12:05.438222Z",
     "iopub.status.busy": "2023-12-26T20:12:05.437292Z",
     "iopub.status.idle": "2023-12-26T20:12:06.909912Z",
     "shell.execute_reply": "2023-12-26T20:12:06.908792Z"
    },
    "papermill": {
     "duration": 1.49362,
     "end_time": "2023-12-26T20:12:06.912536",
     "exception": false,
     "start_time": "2023-12-26T20:12:05.418916",
     "status": "completed"
    },
    "tags": []
   },
   "outputs": [
    {
     "data": {
      "text/plain": [
       "<seaborn.axisgrid.FacetGrid at 0x7cc6113609d0>"
      ]
     },
     "execution_count": 14,
     "metadata": {},
     "output_type": "execute_result"
    },
    {
     "data": {
      "text/plain": [
       "<Figure size 300x500 with 0 Axes>"
      ]
     },
     "metadata": {},
     "output_type": "display_data"
    },
    {
     "data": {
      "image/png": "[encoded data removed]",
      "text/plain": [
       "<Figure size 591.986x500 with 1 Axes>"
      ]
     },
     "metadata": {},
     "output_type": "display_data"
    }
   ],
   "source": [
    "plt.figure(figsize=(3,5))\n",
    "\n",
    "sns.lmplot(y=\"sleep_quality\",x=\"study_load\",hue=\"stress_level\",data=st)"
   ]
  },
  {
   "cell_type": "code",
   "execution_count": 15,
   "id": "fa4ee0ba",
   "metadata": {
    "execution": {
     "iopub.execute_input": "2023-12-26T20:12:06.950608Z",
     "iopub.status.busy": "2023-12-26T20:12:06.949904Z",
     "iopub.status.idle": "2023-12-26T20:12:07.425996Z",
     "shell.execute_reply": "2023-12-26T20:12:07.424875Z"
    },
    "papermill": {
     "duration": 0.498116,
     "end_time": "2023-12-26T20:12:07.429031",
     "exception": false,
     "start_time": "2023-12-26T20:12:06.930915",
     "status": "completed"
    },
    "tags": []
   },
   "outputs": [
    {
     "data": {
      "text/plain": [
       "<Axes: >"
      ]
     },
     "execution_count": 15,
     "metadata": {},
     "output_type": "execute_result"
    },
    {
     "data": {
      "image/png": "[encoded data removed]",
      "text/plain": [
       "<Figure size 640x480 with 2 Axes>"
      ]
     },
     "metadata": {},
     "output_type": "display_data"
    }
   ],
   "source": [
    "#correlation of various factors on stress levels\n",
    "corr_matrix = st.corr()\n",
    "sns.heatmap(corr_matrix, annot=True, cmap='Blues')"
   ]
  },
  {
   "cell_type": "code",
   "execution_count": 16,
   "id": "00f13a89",
   "metadata": {
    "execution": {
     "iopub.execute_input": "2023-12-26T20:12:07.469929Z",
     "iopub.status.busy": "2023-12-26T20:12:07.468841Z",
     "iopub.status.idle": "2023-12-26T20:12:08.858564Z",
     "shell.execute_reply": "2023-12-26T20:12:08.857475Z"
    },
    "papermill": {
     "duration": 1.413204,
     "end_time": "2023-12-26T20:12:08.861458",
     "exception": false,
     "start_time": "2023-12-26T20:12:07.448254",
     "status": "completed"
    },
    "tags": []
   },
   "outputs": [
    {
     "data": {
      "text/plain": [
       "<seaborn.axisgrid.FacetGrid at 0x7cc6111ba5f0>"
      ]
     },
     "execution_count": 16,
     "metadata": {},
     "output_type": "execute_result"
    },
    {
     "data": {
      "text/plain": [
       "<Figure size 300x500 with 0 Axes>"
      ]
     },
     "metadata": {},
     "output_type": "display_data"
    },
    {
     "data": {
      "image/png": "[encoded data removed]",
      "text/plain": [
       "<Figure size 591.986x500 with 1 Axes>"
      ]
     },
     "metadata": {},
     "output_type": "display_data"
    }
   ],
   "source": [
    "plt.figure(figsize=(3,5))\n",
    "\n",
    "sns.lmplot(y=\"sleep_quality\",x=\"study_load\",hue=\"stress_level\",data=st)"
   ]
  },
  {
   "cell_type": "code",
   "execution_count": 17,
   "id": "04a86a1a",
   "metadata": {
    "execution": {
     "iopub.execute_input": "2023-12-26T20:12:08.906071Z",
     "iopub.status.busy": "2023-12-26T20:12:08.905173Z",
     "iopub.status.idle": "2023-12-26T20:12:08.913056Z",
     "shell.execute_reply": "2023-12-26T20:12:08.912049Z"
    },
    "papermill": {
     "duration": 0.032824,
     "end_time": "2023-12-26T20:12:08.915457",
     "exception": false,
     "start_time": "2023-12-26T20:12:08.882633",
     "status": "completed"
    },
    "tags": []
   },
   "outputs": [],
   "source": [
    "agg_df=pd.DataFrame()\n",
    "agg_df[\"therapy\"] = st[\"stress_level\"].astype(str)+st[\"study_load\"].astype(str)\n"
   ]
  },
  {
   "cell_type": "code",
   "execution_count": 18,
   "id": "63f5ab82",
   "metadata": {
    "execution": {
     "iopub.execute_input": "2023-12-26T20:12:08.958408Z",
     "iopub.status.busy": "2023-12-26T20:12:08.957679Z",
     "iopub.status.idle": "2023-12-26T20:12:08.963887Z",
     "shell.execute_reply": "2023-12-26T20:12:08.963057Z"
    },
    "papermill": {
     "duration": 0.03055,
     "end_time": "2023-12-26T20:12:08.966465",
     "exception": false,
     "start_time": "2023-12-26T20:12:08.935915",
     "status": "completed"
    },
    "tags": []
   },
   "outputs": [],
   "source": [
    "agg_df[\"success\"]=st[\"academic\"].astype(str)+st[\"extra_act\"].astype(str)"
   ]
  },
  {
   "cell_type": "code",
   "execution_count": 19,
   "id": "c66a5f00",
   "metadata": {
    "execution": {
     "iopub.execute_input": "2023-12-26T20:12:09.070006Z",
     "iopub.status.busy": "2023-12-26T20:12:09.069420Z",
     "iopub.status.idle": "2023-12-26T20:12:09.078296Z",
     "shell.execute_reply": "2023-12-26T20:12:09.077545Z"
    },
    "papermill": {
     "duration": 0.093278,
     "end_time": "2023-12-26T20:12:09.080324",
     "exception": false,
     "start_time": "2023-12-26T20:12:08.987046",
     "status": "completed"
    },
    "tags": []
   },
   "outputs": [
    {
     "data": {
      "text/html": [
       "<div>\n",
       "<style scoped>\n",
       "    .dataframe tbody tr th:only-of-type {\n",
       "        vertical-align: middle;\n",
       "    }\n",
       "\n",
       "    .dataframe tbody tr th {\n",
       "        vertical-align: top;\n",
       "    }\n",
       "\n",
       "    .dataframe thead th {\n",
       "        text-align: right;\n",
       "    }\n",
       "</style>\n",
       "<table border=\"1\" class=\"dataframe\">\n",
       "  <thead>\n",
       "    <tr style=\"text-align: right;\">\n",
       "      <th></th>\n",
       "      <th>therapy</th>\n",
       "      <th>success</th>\n",
       "    </tr>\n",
       "  </thead>\n",
       "  <tbody>\n",
       "    <tr>\n",
       "      <th>0</th>\n",
       "      <td>34</td>\n",
       "      <td>32</td>\n",
       "    </tr>\n",
       "    <tr>\n",
       "      <th>1</th>\n",
       "      <td>23</td>\n",
       "      <td>23</td>\n",
       "    </tr>\n",
       "    <tr>\n",
       "      <th>2</th>\n",
       "      <td>41</td>\n",
       "      <td>24</td>\n",
       "    </tr>\n",
       "    <tr>\n",
       "      <th>3</th>\n",
       "      <td>32</td>\n",
       "      <td>33</td>\n",
       "    </tr>\n",
       "    <tr>\n",
       "      <th>4</th>\n",
       "      <td>35</td>\n",
       "      <td>15</td>\n",
       "    </tr>\n",
       "  </tbody>\n",
       "</table>\n",
       "</div>"
      ],
      "text/plain": [
       "  therapy success\n",
       "0      34      32\n",
       "1      23      23\n",
       "2      41      24\n",
       "3      32      33\n",
       "4      35      15"
      ]
     },
     "execution_count": 19,
     "metadata": {},
     "output_type": "execute_result"
    }
   ],
   "source": [
    "agg_df.head()"
   ]
  },
  {
   "cell_type": "code",
   "execution_count": 20,
   "id": "23afb6aa",
   "metadata": {
    "execution": {
     "iopub.execute_input": "2023-12-26T20:12:09.123771Z",
     "iopub.status.busy": "2023-12-26T20:12:09.123146Z",
     "iopub.status.idle": "2023-12-26T20:12:09.127646Z",
     "shell.execute_reply": "2023-12-26T20:12:09.126864Z"
    },
    "papermill": {
     "duration": 0.028628,
     "end_time": "2023-12-26T20:12:09.129665",
     "exception": false,
     "start_time": "2023-12-26T20:12:09.101037",
     "status": "completed"
    },
    "tags": []
   },
   "outputs": [],
   "source": [
    "agg_df[\"therapy\"]=agg_df[\"therapy\"].values.astype(int)\n"
   ]
  },
  {
   "cell_type": "code",
   "execution_count": 21,
   "id": "de443ff1",
   "metadata": {
    "execution": {
     "iopub.execute_input": "2023-12-26T20:12:09.173988Z",
     "iopub.status.busy": "2023-12-26T20:12:09.172825Z",
     "iopub.status.idle": "2023-12-26T20:12:09.178989Z",
     "shell.execute_reply": "2023-12-26T20:12:09.178279Z"
    },
    "papermill": {
     "duration": 0.030609,
     "end_time": "2023-12-26T20:12:09.181259",
     "exception": false,
     "start_time": "2023-12-26T20:12:09.150650",
     "status": "completed"
    },
    "tags": []
   },
   "outputs": [],
   "source": [
    "student_control = {\n",
    "    r'[1-2][1-2]': 'mental stable and having no potential',\n",
    "    r'[1-2][3-4]': 'mentally stable and lazy',\n",
    "    r'[1-2]5': 'mentally stable and nerd',\n",
    "    r'3[1-2]': 'average mental and not working',\n",
    "    r'33': 'need theraphy and lazy',\n",
    "    r'[3-4][4-5]': 'need theraphy and brilliant',\n",
    "    r'41': 'need threaphy and lazy',\n",
    "    r'51': 'need threaphy and mentally unstable and lazy',\n",
    "    r'[4-5][2-3]': 'need threaphy and mentally unstable  and hardworking',\n",
    "    r'5[4-5]': 'need theraphy and mentally unstable and nerd'\n",
    "}\n"
   ]
  },
  {
   "cell_type": "code",
   "execution_count": 22,
   "id": "c22f1dd8",
   "metadata": {
    "execution": {
     "iopub.execute_input": "2023-12-26T20:12:09.224716Z",
     "iopub.status.busy": "2023-12-26T20:12:09.223782Z",
     "iopub.status.idle": "2023-12-26T20:12:09.229641Z",
     "shell.execute_reply": "2023-12-26T20:12:09.228806Z"
    },
    "papermill": {
     "duration": 0.029576,
     "end_time": "2023-12-26T20:12:09.231650",
     "exception": false,
     "start_time": "2023-12-26T20:12:09.202074",
     "status": "completed"
    },
    "tags": []
   },
   "outputs": [],
   "source": [
    "agg_df['segment'] = agg_df['therapy'].replace(student_control, regex=True)\n"
   ]
  },
  {
   "cell_type": "code",
   "execution_count": 23,
   "id": "64a37480",
   "metadata": {
    "execution": {
     "iopub.execute_input": "2023-12-26T20:12:09.276199Z",
     "iopub.status.busy": "2023-12-26T20:12:09.275315Z",
     "iopub.status.idle": "2023-12-26T20:12:09.285465Z",
     "shell.execute_reply": "2023-12-26T20:12:09.284407Z"
    },
    "papermill": {
     "duration": 0.034494,
     "end_time": "2023-12-26T20:12:09.287636",
     "exception": false,
     "start_time": "2023-12-26T20:12:09.253142",
     "status": "completed"
    },
    "tags": []
   },
   "outputs": [],
   "source": [
    "agg_df['segment'] = agg_df['success'].replace(student_control, regex=True)\n"
   ]
  },
  {
   "cell_type": "code",
   "execution_count": 24,
   "id": "83106892",
   "metadata": {
    "execution": {
     "iopub.execute_input": "2023-12-26T20:12:09.330791Z",
     "iopub.status.busy": "2023-12-26T20:12:09.330375Z",
     "iopub.status.idle": "2023-12-26T20:12:09.337341Z",
     "shell.execute_reply": "2023-12-26T20:12:09.336518Z"
    },
    "papermill": {
     "duration": 0.030907,
     "end_time": "2023-12-26T20:12:09.339344",
     "exception": false,
     "start_time": "2023-12-26T20:12:09.308437",
     "status": "completed"
    },
    "tags": []
   },
   "outputs": [],
   "source": [
    "result = pd.concat([st, agg_df], axis=1) \n",
    "\n",
    "result=result.drop([\"therapy\",\"success\"],axis=1)"
   ]
  },
  {
   "cell_type": "code",
   "execution_count": 25,
   "id": "fe729719",
   "metadata": {
    "execution": {
     "iopub.execute_input": "2023-12-26T20:12:09.383042Z",
     "iopub.status.busy": "2023-12-26T20:12:09.382330Z",
     "iopub.status.idle": "2023-12-26T20:12:09.395284Z",
     "shell.execute_reply": "2023-12-26T20:12:09.393953Z"
    },
    "papermill": {
     "duration": 0.037776,
     "end_time": "2023-12-26T20:12:09.397763",
     "exception": false,
     "start_time": "2023-12-26T20:12:09.359987",
     "status": "completed"
    },
    "tags": []
   },
   "outputs": [
    {
     "data": {
      "text/html": [
       "<div>\n",
       "<style scoped>\n",
       "    .dataframe tbody tr th:only-of-type {\n",
       "        vertical-align: middle;\n",
       "    }\n",
       "\n",
       "    .dataframe tbody tr th {\n",
       "        vertical-align: top;\n",
       "    }\n",
       "\n",
       "    .dataframe thead th {\n",
       "        text-align: right;\n",
       "    }\n",
       "</style>\n",
       "<table border=\"1\" class=\"dataframe\">\n",
       "  <thead>\n",
       "    <tr style=\"text-align: right;\">\n",
       "      <th></th>\n",
       "      <th>sleep_quality</th>\n",
       "      <th>headache</th>\n",
       "      <th>academic</th>\n",
       "      <th>study_load</th>\n",
       "      <th>extra_act</th>\n",
       "      <th>stress_level</th>\n",
       "      <th>segment</th>\n",
       "    </tr>\n",
       "  </thead>\n",
       "  <tbody>\n",
       "    <tr>\n",
       "      <th>0</th>\n",
       "      <td>3</td>\n",
       "      <td>1</td>\n",
       "      <td>3</td>\n",
       "      <td>4</td>\n",
       "      <td>2</td>\n",
       "      <td>3</td>\n",
       "      <td>average mental and not working</td>\n",
       "    </tr>\n",
       "    <tr>\n",
       "      <th>1</th>\n",
       "      <td>4</td>\n",
       "      <td>1</td>\n",
       "      <td>2</td>\n",
       "      <td>3</td>\n",
       "      <td>3</td>\n",
       "      <td>2</td>\n",
       "      <td>mentally stable and lazy</td>\n",
       "    </tr>\n",
       "    <tr>\n",
       "      <th>2</th>\n",
       "      <td>2</td>\n",
       "      <td>1</td>\n",
       "      <td>2</td>\n",
       "      <td>1</td>\n",
       "      <td>4</td>\n",
       "      <td>4</td>\n",
       "      <td>mentally stable and lazy</td>\n",
       "    </tr>\n",
       "    <tr>\n",
       "      <th>3</th>\n",
       "      <td>3</td>\n",
       "      <td>2</td>\n",
       "      <td>3</td>\n",
       "      <td>2</td>\n",
       "      <td>3</td>\n",
       "      <td>3</td>\n",
       "      <td>need theraphy and lazy</td>\n",
       "    </tr>\n",
       "    <tr>\n",
       "      <th>4</th>\n",
       "      <td>2</td>\n",
       "      <td>3</td>\n",
       "      <td>1</td>\n",
       "      <td>5</td>\n",
       "      <td>5</td>\n",
       "      <td>3</td>\n",
       "      <td>mentally stable and nerd</td>\n",
       "    </tr>\n",
       "  </tbody>\n",
       "</table>\n",
       "</div>"
      ],
      "text/plain": [
       "   sleep_quality  headache  academic  study_load  extra_act  stress_level  \\\n",
       "0              3         1         3           4          2             3   \n",
       "1              4         1         2           3          3             2   \n",
       "2              2         1         2           1          4             4   \n",
       "3              3         2         3           2          3             3   \n",
       "4              2         3         1           5          5             3   \n",
       "\n",
       "                          segment  \n",
       "0  average mental and not working  \n",
       "1        mentally stable and lazy  \n",
       "2        mentally stable and lazy  \n",
       "3          need theraphy and lazy  \n",
       "4        mentally stable and nerd  "
      ]
     },
     "execution_count": 25,
     "metadata": {},
     "output_type": "execute_result"
    }
   ],
   "source": [
    "result.head()"
   ]
  },
  {
   "cell_type": "code",
   "execution_count": 26,
   "id": "38bbe76c",
   "metadata": {
    "execution": {
     "iopub.execute_input": "2023-12-26T20:12:09.443038Z",
     "iopub.status.busy": "2023-12-26T20:12:09.442683Z",
     "iopub.status.idle": "2023-12-26T20:12:09.458406Z",
     "shell.execute_reply": "2023-12-26T20:12:09.457279Z"
    },
    "papermill": {
     "duration": 0.04212,
     "end_time": "2023-12-26T20:12:09.461610",
     "exception": false,
     "start_time": "2023-12-26T20:12:09.419490",
     "status": "completed"
    },
    "tags": []
   },
   "outputs": [
    {
     "data": {
      "text/html": [
       "<div>\n",
       "<style scoped>\n",
       "    .dataframe tbody tr th:only-of-type {\n",
       "        vertical-align: middle;\n",
       "    }\n",
       "\n",
       "    .dataframe tbody tr th {\n",
       "        vertical-align: top;\n",
       "    }\n",
       "\n",
       "    .dataframe thead th {\n",
       "        text-align: right;\n",
       "    }\n",
       "</style>\n",
       "<table border=\"1\" class=\"dataframe\">\n",
       "  <thead>\n",
       "    <tr style=\"text-align: right;\">\n",
       "      <th></th>\n",
       "      <th>sleep_quality</th>\n",
       "      <th>headache</th>\n",
       "      <th>academic</th>\n",
       "      <th>study_load</th>\n",
       "      <th>extra_act</th>\n",
       "      <th>stress_level</th>\n",
       "      <th>segment</th>\n",
       "    </tr>\n",
       "  </thead>\n",
       "  <tbody>\n",
       "    <tr>\n",
       "      <th>10</th>\n",
       "      <td>2</td>\n",
       "      <td>3</td>\n",
       "      <td>5</td>\n",
       "      <td>5</td>\n",
       "      <td>2</td>\n",
       "      <td>4</td>\n",
       "      <td>need threaphy and mentally unstable  and hardw...</td>\n",
       "    </tr>\n",
       "    <tr>\n",
       "      <th>11</th>\n",
       "      <td>3</td>\n",
       "      <td>1</td>\n",
       "      <td>5</td>\n",
       "      <td>1</td>\n",
       "      <td>4</td>\n",
       "      <td>1</td>\n",
       "      <td>need theraphy and mentally unstable and nerd</td>\n",
       "    </tr>\n",
       "    <tr>\n",
       "      <th>21</th>\n",
       "      <td>3</td>\n",
       "      <td>3</td>\n",
       "      <td>4</td>\n",
       "      <td>4</td>\n",
       "      <td>3</td>\n",
       "      <td>3</td>\n",
       "      <td>need threaphy and mentally unstable  and hardw...</td>\n",
       "    </tr>\n",
       "    <tr>\n",
       "      <th>23</th>\n",
       "      <td>3</td>\n",
       "      <td>1</td>\n",
       "      <td>4</td>\n",
       "      <td>4</td>\n",
       "      <td>2</td>\n",
       "      <td>3</td>\n",
       "      <td>need threaphy and mentally unstable  and hardw...</td>\n",
       "    </tr>\n",
       "    <tr>\n",
       "      <th>26</th>\n",
       "      <td>5</td>\n",
       "      <td>1</td>\n",
       "      <td>5</td>\n",
       "      <td>1</td>\n",
       "      <td>5</td>\n",
       "      <td>5</td>\n",
       "      <td>need theraphy and mentally unstable and nerd</td>\n",
       "    </tr>\n",
       "    <tr>\n",
       "      <th>27</th>\n",
       "      <td>5</td>\n",
       "      <td>5</td>\n",
       "      <td>5</td>\n",
       "      <td>1</td>\n",
       "      <td>1</td>\n",
       "      <td>1</td>\n",
       "      <td>need threaphy and mentally unstable and lazy</td>\n",
       "    </tr>\n",
       "    <tr>\n",
       "      <th>32</th>\n",
       "      <td>5</td>\n",
       "      <td>5</td>\n",
       "      <td>4</td>\n",
       "      <td>5</td>\n",
       "      <td>2</td>\n",
       "      <td>5</td>\n",
       "      <td>need threaphy and mentally unstable  and hardw...</td>\n",
       "    </tr>\n",
       "    <tr>\n",
       "      <th>33</th>\n",
       "      <td>2</td>\n",
       "      <td>3</td>\n",
       "      <td>4</td>\n",
       "      <td>1</td>\n",
       "      <td>2</td>\n",
       "      <td>2</td>\n",
       "      <td>need threaphy and mentally unstable  and hardw...</td>\n",
       "    </tr>\n",
       "    <tr>\n",
       "      <th>34</th>\n",
       "      <td>4</td>\n",
       "      <td>1</td>\n",
       "      <td>5</td>\n",
       "      <td>4</td>\n",
       "      <td>5</td>\n",
       "      <td>2</td>\n",
       "      <td>need theraphy and mentally unstable and nerd</td>\n",
       "    </tr>\n",
       "    <tr>\n",
       "      <th>35</th>\n",
       "      <td>5</td>\n",
       "      <td>1</td>\n",
       "      <td>4</td>\n",
       "      <td>3</td>\n",
       "      <td>2</td>\n",
       "      <td>5</td>\n",
       "      <td>need threaphy and mentally unstable  and hardw...</td>\n",
       "    </tr>\n",
       "    <tr>\n",
       "      <th>38</th>\n",
       "      <td>3</td>\n",
       "      <td>4</td>\n",
       "      <td>4</td>\n",
       "      <td>5</td>\n",
       "      <td>3</td>\n",
       "      <td>1</td>\n",
       "      <td>need threaphy and mentally unstable  and hardw...</td>\n",
       "    </tr>\n",
       "    <tr>\n",
       "      <th>50</th>\n",
       "      <td>5</td>\n",
       "      <td>1</td>\n",
       "      <td>5</td>\n",
       "      <td>1</td>\n",
       "      <td>3</td>\n",
       "      <td>3</td>\n",
       "      <td>need threaphy and mentally unstable  and hardw...</td>\n",
       "    </tr>\n",
       "    <tr>\n",
       "      <th>51</th>\n",
       "      <td>1</td>\n",
       "      <td>1</td>\n",
       "      <td>5</td>\n",
       "      <td>1</td>\n",
       "      <td>5</td>\n",
       "      <td>1</td>\n",
       "      <td>need theraphy and mentally unstable and nerd</td>\n",
       "    </tr>\n",
       "  </tbody>\n",
       "</table>\n",
       "</div>"
      ],
      "text/plain": [
       "    sleep_quality  headache  academic  study_load  extra_act  stress_level  \\\n",
       "10              2         3         5           5          2             4   \n",
       "11              3         1         5           1          4             1   \n",
       "21              3         3         4           4          3             3   \n",
       "23              3         1         4           4          2             3   \n",
       "26              5         1         5           1          5             5   \n",
       "27              5         5         5           1          1             1   \n",
       "32              5         5         4           5          2             5   \n",
       "33              2         3         4           1          2             2   \n",
       "34              4         1         5           4          5             2   \n",
       "35              5         1         4           3          2             5   \n",
       "38              3         4         4           5          3             1   \n",
       "50              5         1         5           1          3             3   \n",
       "51              1         1         5           1          5             1   \n",
       "\n",
       "                                              segment  \n",
       "10  need threaphy and mentally unstable  and hardw...  \n",
       "11       need theraphy and mentally unstable and nerd  \n",
       "21  need threaphy and mentally unstable  and hardw...  \n",
       "23  need threaphy and mentally unstable  and hardw...  \n",
       "26       need theraphy and mentally unstable and nerd  \n",
       "27       need threaphy and mentally unstable and lazy  \n",
       "32  need threaphy and mentally unstable  and hardw...  \n",
       "33  need threaphy and mentally unstable  and hardw...  \n",
       "34       need theraphy and mentally unstable and nerd  \n",
       "35  need threaphy and mentally unstable  and hardw...  \n",
       "38  need threaphy and mentally unstable  and hardw...  \n",
       "50  need threaphy and mentally unstable  and hardw...  \n",
       "51       need theraphy and mentally unstable and nerd  "
      ]
     },
     "execution_count": 26,
     "metadata": {},
     "output_type": "execute_result"
    }
   ],
   "source": [
    "report=result[result[\"segment\"].str.contains(\"unstable\")]\n",
    "report"
   ]
  },
  {
   "cell_type": "code",
   "execution_count": 27,
   "id": "409db5cd",
   "metadata": {
    "execution": {
     "iopub.execute_input": "2023-12-26T20:12:09.507042Z",
     "iopub.status.busy": "2023-12-26T20:12:09.506653Z",
     "iopub.status.idle": "2023-12-26T20:12:09.513929Z",
     "shell.execute_reply": "2023-12-26T20:12:09.512962Z"
    },
    "papermill": {
     "duration": 0.032794,
     "end_time": "2023-12-26T20:12:09.516176",
     "exception": false,
     "start_time": "2023-12-26T20:12:09.483382",
     "status": "completed"
    },
    "tags": []
   },
   "outputs": [],
   "source": [
    "report.to_csv('out.csv')\n"
   ]
  },
  {
   "cell_type": "markdown",
   "id": "11a07f33",
   "metadata": {
    "papermill": {
     "duration": 0.021374,
     "end_time": "2023-12-26T20:12:09.559016",
     "exception": false,
     "start_time": "2023-12-26T20:12:09.537642",
     "status": "completed"
    },
    "tags": []
   },
   "source": [
    "## Linear Regression"
   ]
  },
  {
   "cell_type": "code",
   "execution_count": 28,
   "id": "ba9aee36",
   "metadata": {
    "execution": {
     "iopub.execute_input": "2023-12-26T20:12:09.605190Z",
     "iopub.status.busy": "2023-12-26T20:12:09.604514Z",
     "iopub.status.idle": "2023-12-26T20:12:09.935488Z",
     "shell.execute_reply": "2023-12-26T20:12:09.934424Z"
    },
    "papermill": {
     "duration": 0.357124,
     "end_time": "2023-12-26T20:12:09.938268",
     "exception": false,
     "start_time": "2023-12-26T20:12:09.581144",
     "status": "completed"
    },
    "tags": []
   },
   "outputs": [],
   "source": [
    "from sklearn.linear_model import LinearRegression\n",
    "#splitting the data into training and testing sets (70% training and 30% testing)\n",
    "from sklearn.model_selection import train_test_split,cross_val_score\n",
    "\n",
    "x=st.drop(\"stress_level\",axis=1)\n",
    "y=st[\"stress_level\"]\n",
    "\n",
    "X_train,X_test,Y_train,Y_test=train_test_split(x,y,test_size=0.3,random_state=42)\n"
   ]
  },
  {
   "cell_type": "code",
   "execution_count": 29,
   "id": "4fb4d3a1",
   "metadata": {
    "execution": {
     "iopub.execute_input": "2023-12-26T20:12:09.983795Z",
     "iopub.status.busy": "2023-12-26T20:12:09.983414Z",
     "iopub.status.idle": "2023-12-26T20:12:09.990020Z",
     "shell.execute_reply": "2023-12-26T20:12:09.988948Z"
    },
    "papermill": {
     "duration": 0.032316,
     "end_time": "2023-12-26T20:12:09.992586",
     "exception": false,
     "start_time": "2023-12-26T20:12:09.960270",
     "status": "completed"
    },
    "tags": []
   },
   "outputs": [
    {
     "data": {
      "text/plain": [
       "(37, 5)"
      ]
     },
     "execution_count": 29,
     "metadata": {},
     "output_type": "execute_result"
    }
   ],
   "source": [
    "X_train.shape"
   ]
  },
  {
   "cell_type": "code",
   "execution_count": 30,
   "id": "27a14fb2",
   "metadata": {
    "execution": {
     "iopub.execute_input": "2023-12-26T20:12:10.038657Z",
     "iopub.status.busy": "2023-12-26T20:12:10.037354Z",
     "iopub.status.idle": "2023-12-26T20:12:10.044704Z",
     "shell.execute_reply": "2023-12-26T20:12:10.043681Z"
    },
    "papermill": {
     "duration": 0.032685,
     "end_time": "2023-12-26T20:12:10.047092",
     "exception": false,
     "start_time": "2023-12-26T20:12:10.014407",
     "status": "completed"
    },
    "tags": []
   },
   "outputs": [
    {
     "data": {
      "text/plain": [
       "(16, 5)"
      ]
     },
     "execution_count": 30,
     "metadata": {},
     "output_type": "execute_result"
    }
   ],
   "source": [
    "X_test.shape"
   ]
  },
  {
   "cell_type": "code",
   "execution_count": 31,
   "id": "3f74ee90",
   "metadata": {
    "execution": {
     "iopub.execute_input": "2023-12-26T20:12:10.092955Z",
     "iopub.status.busy": "2023-12-26T20:12:10.091943Z",
     "iopub.status.idle": "2023-12-26T20:12:10.121540Z",
     "shell.execute_reply": "2023-12-26T20:12:10.120433Z"
    },
    "papermill": {
     "duration": 0.055191,
     "end_time": "2023-12-26T20:12:10.124028",
     "exception": false,
     "start_time": "2023-12-26T20:12:10.068837",
     "status": "completed"
    },
    "tags": []
   },
   "outputs": [
    {
     "data": {
      "text/html": [
       "<style>#sk-container-id-1 {color: black;background-color: white;}#sk-container-id-1 pre{padding: 0;}#sk-container-id-1 div.sk-toggleable {background-color: white;}#sk-container-id-1 label.sk-toggleable__label {cursor: pointer;display: block;width: 100%;margin-bottom: 0;padding: 0.3em;box-sizing: border-box;text-align: center;}#sk-container-id-1 label.sk-toggleable__label-arrow:before {content: \"▸\";float: left;margin-right: 0.25em;color: #696969;}#sk-container-id-1 label.sk-toggleable__label-arrow:hover:before {color: black;}#sk-container-id-1 div.sk-estimator:hover label.sk-toggleable__label-arrow:before {color: black;}#sk-container-id-1 div.sk-toggleable__content {max-height: 0;max-width: 0;overflow: hidden;text-align: left;background-color: #f0f8ff;}#sk-container-id-1 div.sk-toggleable__content pre {margin: 0.2em;color: black;border-radius: 0.25em;background-color: #f0f8ff;}#sk-container-id-1 input.sk-toggleable__control:checked~div.sk-toggleable__content {max-height: 200px;max-width: 100%;overflow: auto;}#sk-container-id-1 input.sk-toggleable__control:checked~label.sk-toggleable__label-arrow:before {content: \"▾\";}#sk-container-id-1 div.sk-estimator input.sk-toggleable__control:checked~label.sk-toggleable__label {background-color: #d4ebff;}#sk-container-id-1 div.sk-label input.sk-toggleable__control:checked~label.sk-toggleable__label {background-color: #d4ebff;}#sk-container-id-1 input.sk-hidden--visually {border: 0;clip: rect(1px 1px 1px 1px);clip: rect(1px, 1px, 1px, 1px);height: 1px;margin: -1px;overflow: hidden;padding: 0;position: absolute;width: 1px;}#sk-container-id-1 div.sk-estimator {font-family: monospace;background-color: #f0f8ff;border: 1px dotted black;border-radius: 0.25em;box-sizing: border-box;margin-bottom: 0.5em;}#sk-container-id-1 div.sk-estimator:hover {background-color: #d4ebff;}#sk-container-id-1 div.sk-parallel-item::after {content: \"\";width: 100%;border-bottom: 1px solid gray;flex-grow: 1;}#sk-container-id-1 div.sk-label:hover label.sk-toggleable__label {background-color: #d4ebff;}#sk-container-id-1 div.sk-serial::before {content: \"\";position: absolute;border-left: 1px solid gray;box-sizing: border-box;top: 0;bottom: 0;left: 50%;z-index: 0;}#sk-container-id-1 div.sk-serial {display: flex;flex-direction: column;align-items: center;background-color: white;padding-right: 0.2em;padding-left: 0.2em;position: relative;}#sk-container-id-1 div.sk-item {position: relative;z-index: 1;}#sk-container-id-1 div.sk-parallel {display: flex;align-items: stretch;justify-content: center;background-color: white;position: relative;}#sk-container-id-1 div.sk-item::before, #sk-container-id-1 div.sk-parallel-item::before {content: \"\";position: absolute;border-left: 1px solid gray;box-sizing: border-box;top: 0;bottom: 0;left: 50%;z-index: -1;}#sk-container-id-1 div.sk-parallel-item {display: flex;flex-direction: column;z-index: 1;position: relative;background-color: white;}#sk-container-id-1 div.sk-parallel-item:first-child::after {align-self: flex-end;width: 50%;}#sk-container-id-1 div.sk-parallel-item:last-child::after {align-self: flex-start;width: 50%;}#sk-container-id-1 div.sk-parallel-item:only-child::after {width: 0;}#sk-container-id-1 div.sk-dashed-wrapped {border: 1px dashed gray;margin: 0 0.4em 0.5em 0.4em;box-sizing: border-box;padding-bottom: 0.4em;background-color: white;}#sk-container-id-1 div.sk-label label {font-family: monospace;font-weight: bold;display: inline-block;line-height: 1.2em;}#sk-container-id-1 div.sk-label-container {text-align: center;}#sk-container-id-1 div.sk-container {/* jupyter's `normalize.less` sets `[hidden] { display: none; }` but bootstrap.min.css set `[hidden] { display: none !important; }` so we also need the `!important` here to be able to override the default hidden behavior on the sphinx rendered scikit-learn.org. See: https://github.com/scikit-learn/scikit-learn/issues/21755 */display: inline-block !important;position: relative;}#sk-container-id-1 div.sk-text-repr-fallback {display: none;}</style><div id=\"sk-container-id-1\" class=\"sk-top-container\"><div class=\"sk-text-repr-fallback\"><pre>LinearRegression()</pre><b>In a Jupyter environment, please rerun this cell to show the HTML representation or trust the notebook. <br />On GitHub, the HTML representation is unable to render, please try loading this page with nbviewer.org.</b></div><div class=\"sk-container\" hidden><div class=\"sk-item\"><div class=\"sk-estimator sk-toggleable\"><input class=\"sk-toggleable__control sk-hidden--visually\" id=\"sk-estimator-id-1\" type=\"checkbox\" checked><label for=\"sk-estimator-id-1\" class=\"sk-toggleable__label sk-toggleable__label-arrow\">LinearRegression</label><div class=\"sk-toggleable__content\"><pre>LinearRegression()</pre></div></div></div></div></div>"
      ],
      "text/plain": [
       "LinearRegression()"
      ]
     },
     "execution_count": 31,
     "metadata": {},
     "output_type": "execute_result"
    }
   ],
   "source": [
    "mlr = LinearRegression()\n",
    "mlr.fit(X_train,Y_train)"
   ]
  },
  {
   "cell_type": "code",
   "execution_count": 32,
   "id": "77645b8c",
   "metadata": {
    "execution": {
     "iopub.execute_input": "2023-12-26T20:12:10.170543Z",
     "iopub.status.busy": "2023-12-26T20:12:10.170168Z",
     "iopub.status.idle": "2023-12-26T20:12:10.176457Z",
     "shell.execute_reply": "2023-12-26T20:12:10.175645Z"
    },
    "papermill": {
     "duration": 0.032002,
     "end_time": "2023-12-26T20:12:10.178449",
     "exception": false,
     "start_time": "2023-12-26T20:12:10.146447",
     "status": "completed"
    },
    "tags": []
   },
   "outputs": [
    {
     "data": {
      "text/plain": [
       "1.3697319178220086"
      ]
     },
     "execution_count": 32,
     "metadata": {},
     "output_type": "execute_result"
    }
   ],
   "source": [
    "mlr.coef_\n",
    "mlr.intercept_"
   ]
  },
  {
   "cell_type": "code",
   "execution_count": 33,
   "id": "104568dd",
   "metadata": {
    "execution": {
     "iopub.execute_input": "2023-12-26T20:12:10.224816Z",
     "iopub.status.busy": "2023-12-26T20:12:10.224075Z",
     "iopub.status.idle": "2023-12-26T20:12:10.232586Z",
     "shell.execute_reply": "2023-12-26T20:12:10.231604Z"
    },
    "papermill": {
     "duration": 0.034198,
     "end_time": "2023-12-26T20:12:10.234924",
     "exception": false,
     "start_time": "2023-12-26T20:12:10.200726",
     "status": "completed"
    },
    "tags": []
   },
   "outputs": [
    {
     "data": {
      "text/plain": [
       "34.017201075753455"
      ]
     },
     "execution_count": 33,
     "metadata": {},
     "output_type": "execute_result"
    }
   ],
   "source": [
    "mlr.score(X_train,Y_train)*100"
   ]
  },
  {
   "cell_type": "code",
   "execution_count": 34,
   "id": "696fa0b3",
   "metadata": {
    "execution": {
     "iopub.execute_input": "2023-12-26T20:12:10.281530Z",
     "iopub.status.busy": "2023-12-26T20:12:10.281124Z",
     "iopub.status.idle": "2023-12-26T20:12:10.287509Z",
     "shell.execute_reply": "2023-12-26T20:12:10.286414Z"
    },
    "papermill": {
     "duration": 0.032361,
     "end_time": "2023-12-26T20:12:10.289753",
     "exception": false,
     "start_time": "2023-12-26T20:12:10.257392",
     "status": "completed"
    },
    "tags": []
   },
   "outputs": [],
   "source": [
    "predicted = mlr.predict(x).astype(int)"
   ]
  },
  {
   "cell_type": "code",
   "execution_count": 35,
   "id": "dfe9848d",
   "metadata": {
    "execution": {
     "iopub.execute_input": "2023-12-26T20:12:10.336621Z",
     "iopub.status.busy": "2023-12-26T20:12:10.335656Z",
     "iopub.status.idle": "2023-12-26T20:12:10.342773Z",
     "shell.execute_reply": "2023-12-26T20:12:10.341713Z"
    },
    "papermill": {
     "duration": 0.032816,
     "end_time": "2023-12-26T20:12:10.345047",
     "exception": false,
     "start_time": "2023-12-26T20:12:10.312231",
     "status": "completed"
    },
    "tags": []
   },
   "outputs": [
    {
     "data": {
      "text/plain": [
       "array([3, 3, 2, 2, 3, 2, 2, 2, 3, 2, 2, 2, 2, 3, 3, 2, 3, 1, 2, 1, 1, 2,\n",
       "       2, 3, 2, 2, 3, 1, 1, 1, 4, 2, 2, 1, 3, 3, 3, 1, 2, 3, 1, 3, 3, 2,\n",
       "       4, 3, 2, 2, 2, 2, 2, 2, 2])"
      ]
     },
     "execution_count": 35,
     "metadata": {},
     "output_type": "execute_result"
    }
   ],
   "source": [
    "predicted"
   ]
  },
  {
   "cell_type": "code",
   "execution_count": 36,
   "id": "a146aea7",
   "metadata": {
    "execution": {
     "iopub.execute_input": "2023-12-26T20:12:10.391414Z",
     "iopub.status.busy": "2023-12-26T20:12:10.391019Z",
     "iopub.status.idle": "2023-12-26T20:12:10.395819Z",
     "shell.execute_reply": "2023-12-26T20:12:10.394874Z"
    },
    "papermill": {
     "duration": 0.030739,
     "end_time": "2023-12-26T20:12:10.397962",
     "exception": false,
     "start_time": "2023-12-26T20:12:10.367223",
     "status": "completed"
    },
    "tags": []
   },
   "outputs": [],
   "source": [
    "prediction_df = pd.DataFrame({'prediction': predicted})\n",
    "\n"
   ]
  },
  {
   "cell_type": "code",
   "execution_count": 37,
   "id": "d65af4c0",
   "metadata": {
    "execution": {
     "iopub.execute_input": "2023-12-26T20:12:10.444453Z",
     "iopub.status.busy": "2023-12-26T20:12:10.444046Z",
     "iopub.status.idle": "2023-12-26T20:12:10.453409Z",
     "shell.execute_reply": "2023-12-26T20:12:10.452245Z"
    },
    "papermill": {
     "duration": 0.035819,
     "end_time": "2023-12-26T20:12:10.456099",
     "exception": false,
     "start_time": "2023-12-26T20:12:10.420280",
     "status": "completed"
    },
    "tags": []
   },
   "outputs": [
    {
     "data": {
      "text/html": [
       "<div>\n",
       "<style scoped>\n",
       "    .dataframe tbody tr th:only-of-type {\n",
       "        vertical-align: middle;\n",
       "    }\n",
       "\n",
       "    .dataframe tbody tr th {\n",
       "        vertical-align: top;\n",
       "    }\n",
       "\n",
       "    .dataframe thead th {\n",
       "        text-align: right;\n",
       "    }\n",
       "</style>\n",
       "<table border=\"1\" class=\"dataframe\">\n",
       "  <thead>\n",
       "    <tr style=\"text-align: right;\">\n",
       "      <th></th>\n",
       "      <th>prediction</th>\n",
       "    </tr>\n",
       "  </thead>\n",
       "  <tbody>\n",
       "    <tr>\n",
       "      <th>0</th>\n",
       "      <td>3</td>\n",
       "    </tr>\n",
       "    <tr>\n",
       "      <th>1</th>\n",
       "      <td>3</td>\n",
       "    </tr>\n",
       "    <tr>\n",
       "      <th>2</th>\n",
       "      <td>2</td>\n",
       "    </tr>\n",
       "    <tr>\n",
       "      <th>3</th>\n",
       "      <td>2</td>\n",
       "    </tr>\n",
       "    <tr>\n",
       "      <th>4</th>\n",
       "      <td>3</td>\n",
       "    </tr>\n",
       "  </tbody>\n",
       "</table>\n",
       "</div>"
      ],
      "text/plain": [
       "   prediction\n",
       "0           3\n",
       "1           3\n",
       "2           2\n",
       "3           2\n",
       "4           3"
      ]
     },
     "execution_count": 37,
     "metadata": {},
     "output_type": "execute_result"
    }
   ],
   "source": [
    "prediction_df.head()"
   ]
  }
 ],
 "metadata": {
  "kaggle": {
   "accelerator": "none",
   "dataSources": [
    {
     "datasetId": 3945002,
     "sourceId": 6864138,
     "sourceType": "datasetVersion"
    }
   ],
   "dockerImageVersionId": 30587,
   "isGpuEnabled": false,
   "isInternetEnabled": true,
   "language": "python",
   "sourceType": "notebook"
  },
  "kernelspec": {
   "display_name": "Python 3",
   "language": "python",
   "name": "python3"
  },
  "language_info": {
   "codemirror_mode": {
    "name": "ipython",
    "version": 3
   },
   "file_extension": ".py",
   "mimetype": "text/x-python",
   "name": "python",
   "nbconvert_exporter": "python",
   "pygments_lexer": "ipython3",
   "version": "3.10.12"
  },
  "papermill": {
   "default_parameters": {},
   "duration": 14.148904,
   "end_time": "2023-12-26T20:12:11.098597",
   "environment_variables": {},
   "exception": null,
   "input_path": "__notebook__.ipynb",
   "output_path": "__notebook__.ipynb",
   "parameters": {},
   "start_time": "2023-12-26T20:11:56.949693",
   "version": "2.4.0"
  }
 },
 "nbformat": 4,
 "nbformat_minor": 5
}
